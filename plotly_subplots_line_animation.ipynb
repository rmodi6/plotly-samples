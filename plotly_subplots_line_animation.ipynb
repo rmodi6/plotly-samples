{
 "cells": [
  {
   "cell_type": "code",
   "execution_count": 11,
   "metadata": {},
   "outputs": [],
   "source": [
    "import numpy as np\n",
    "import pandas as pd\n",
    "import random\n",
    "from plotly.subplots import make_subplots\n",
    "import plotly.graph_objects as go"
   ]
  },
  {
   "cell_type": "code",
   "execution_count": 22,
   "metadata": {},
   "outputs": [],
   "source": [
    "df1 = pd.DataFrame({'X': [i+1 for i in range(50)], 'Y': [random.randint(1, 11) for i in range(50)]})\n",
    "df2 = pd.DataFrame({'X': [i+1 for i in range(40)], 'Y': [random.randint(1, 11) for i in range(40)]})\n",
    "\n",
    "fig = make_subplots(rows=2, cols=1, subplot_titles = ('Subplot (1,1)', 'Subplot(2,1)'))\n",
    "\n",
    "fig.add_trace(go.Scatter(\n",
    "          x= df1.X[:2],\n",
    "          y= df1.Y[:2],\n",
    "          mode = 'markers+lines',\n",
    "          hoverinfo='name',\n",
    "          legendgroup= 'f1',\n",
    "          line_color= 'rgb(255, 79, 38)',\n",
    "          name= 'f1',\n",
    "          showlegend= True), row=1, col=1);\n",
    "\n",
    "\n",
    "fig.add_trace(go.Scatter(\n",
    "          x= df2.X[:2],\n",
    "          y= df2.Y[:2],\n",
    "          mode = 'markers+lines',\n",
    "          hoverinfo='name',\n",
    "          legendgroup= 'f2',\n",
    "          line_color= 'rgb(79, 38, 255)',\n",
    "          name= 'f2',\n",
    "          showlegend= True), row=2, col=1);"
   ]
  },
  {
   "cell_type": "code",
   "execution_count": 32,
   "metadata": {
    "scrolled": true
   },
   "outputs": [],
   "source": [
    "fig.layout.update(xaxis =dict(range=[df1.X[0], df1.X[len(df1)-1]], autorange=False),\n",
    "              yaxis =dict(range=[df1.Y.min()-0.5, df1.Y.max()+0.5], autorange=False));\n",
    "fig.layout.update(xaxis2 =dict(range=[df2.X[0], df2.X[len(df2)-1]], autorange=False),\n",
    "              yaxis2 =dict(range=[df2.Y.min()-0.5, df2.Y.max()+0.5], autorange=False));"
   ]
  },
  {
   "cell_type": "code",
   "execution_count": 38,
   "metadata": {},
   "outputs": [],
   "source": [
    "frames = [dict(\n",
    "               name = 'frame{}'.format(k),\n",
    "               data = [go.Scatter(\n",
    "                           x=df1.X[:k+1],\n",
    "                           y=df1.Y[:k+1]),\n",
    "                       go.Scatter(\n",
    "                           x=df2.X[:k+1],\n",
    "                           y=df2.Y[:k+1])\n",
    "                       ],\n",
    "               traces=[0, 1] # the elements of the list [0,1,2] give info on the traces in fig.data\n",
    "                                      # that are updated by the above three go.Scatter instances\n",
    "              ) for k in range(max(len(df1.Y), len(df2.Y)) - 1)]"
   ]
  },
  {
   "cell_type": "code",
   "execution_count": 39,
   "metadata": {},
   "outputs": [
    {
     "data": {
      "text/plain": [
       "49"
      ]
     },
     "execution_count": 39,
     "metadata": {},
     "output_type": "execute_result"
    }
   ],
   "source": [
    "len(frames)"
   ]
  },
  {
   "cell_type": "code",
   "execution_count": 51,
   "metadata": {},
   "outputs": [],
   "source": [
    "updatemenus = [dict(type='buttons',\n",
    "                    buttons=[dict(label='Play',\n",
    "                                  method='animate',\n",
    "                                  args=[['frame{}'.format(k) for k in range(max(len(df1.Y), len(df2.Y)) - 1)], \n",
    "                                         dict(frame=dict(duration=100, redraw=False), \n",
    "                                              transition=dict(duration=0),\n",
    "                                              redraw=True,\n",
    "                                              fromcurrent=True,\n",
    "                                              mode='immediate')\n",
    "                                       ]\n",
    "                                 ),\n",
    "                             \n",
    "                             {\n",
    "                                'args': [[None], {'frame': {'duration': 0, 'redraw': False}, 'mode': 'immediate',\n",
    "                                'transition': {'duration': 0}}],\n",
    "                                'label': 'Pause',\n",
    "                                'method': 'animate'\n",
    "                             }\n",
    "                            ],\n",
    "                    direction= 'left', \n",
    "                    pad=dict(r= 10, t=85), \n",
    "                    showactive =True, x= 0.1, y= 0, xanchor= 'right', yanchor= 'top')\n",
    "            ]"
   ]
  },
  {
   "cell_type": "code",
   "execution_count": 52,
   "metadata": {},
   "outputs": [],
   "source": [
    "sliders = [{'yanchor': 'top',\n",
    "            'xanchor': 'left', \n",
    "            'currentvalue': {'font': {'size': 16}, 'prefix': 'Frame: ', 'visible': True, 'xanchor': 'right'},\n",
    "            'transition': {'duration': 0, 'easing': 'linear'},\n",
    "            'pad': {'b': 10, 't': 50}, \n",
    "            'len': 0.9, 'x': 0.1, 'y': 0, \n",
    "            'steps': [{'args': [['frame{}'.format(k)], {'frame': {'duration': 100, 'redraw': True},\n",
    "                                      'transition': {'duration': 0}}], \n",
    "                       'label': k, 'method': 'animate'} for k in range(max(len(df1.Y), len(df2.Y)) - 1)\n",
    "                    ]}]\n",
    "                "
   ]
  },
  {
   "cell_type": "code",
   "execution_count": 53,
   "metadata": {},
   "outputs": [
    {
     "data": {
      "application/vnd.plotly.v1+json": {
       "config": {
        "plotlyServerURL": "https://plot.ly"
       },
       "data": [
        {
         "hoverinfo": "name",
         "legendgroup": "f1",
         "line": {
          "color": "rgb(255, 79, 38)"
         },
         "mode": "markers+lines",
         "name": "f1",
         "showlegend": true,
         "type": "scatter",
         "x": [
          1,
          2
         ],
         "xaxis": "x",
         "y": [
          8,
          6
         ],
         "yaxis": "y"
        },
        {
         "hoverinfo": "name",
         "legendgroup": "f2",
         "line": {
          "color": "rgb(79, 38, 255)"
         },
         "mode": "markers+lines",
         "name": "f2",
         "showlegend": true,
         "type": "scatter",
         "x": [
          1,
          2
         ],
         "xaxis": "x2",
         "y": [
          10,
          9
         ],
         "yaxis": "y2"
        }
       ],
       "frames": [
        {
         "data": [
          {
           "type": "scatter",
           "x": [
            1
           ],
           "y": [
            8
           ]
          },
          {
           "type": "scatter",
           "x": [
            1
           ],
           "y": [
            10
           ]
          }
         ],
         "name": "frame0",
         "traces": [
          0,
          1
         ]
        },
        {
         "data": [
          {
           "type": "scatter",
           "x": [
            1,
            2
           ],
           "y": [
            8,
            6
           ]
          },
          {
           "type": "scatter",
           "x": [
            1,
            2
           ],
           "y": [
            10,
            9
           ]
          }
         ],
         "name": "frame1",
         "traces": [
          0,
          1
         ]
        },
        {
         "data": [
          {
           "type": "scatter",
           "x": [
            1,
            2,
            3
           ],
           "y": [
            8,
            6,
            4
           ]
          },
          {
           "type": "scatter",
           "x": [
            1,
            2,
            3
           ],
           "y": [
            10,
            9,
            11
           ]
          }
         ],
         "name": "frame2",
         "traces": [
          0,
          1
         ]
        },
        {
         "data": [
          {
           "type": "scatter",
           "x": [
            1,
            2,
            3,
            4
           ],
           "y": [
            8,
            6,
            4,
            3
           ]
          },
          {
           "type": "scatter",
           "x": [
            1,
            2,
            3,
            4
           ],
           "y": [
            10,
            9,
            11,
            4
           ]
          }
         ],
         "name": "frame3",
         "traces": [
          0,
          1
         ]
        },
        {
         "data": [
          {
           "type": "scatter",
           "x": [
            1,
            2,
            3,
            4,
            5
           ],
           "y": [
            8,
            6,
            4,
            3,
            9
           ]
          },
          {
           "type": "scatter",
           "x": [
            1,
            2,
            3,
            4,
            5
           ],
           "y": [
            10,
            9,
            11,
            4,
            1
           ]
          }
         ],
         "name": "frame4",
         "traces": [
          0,
          1
         ]
        },
        {
         "data": [
          {
           "type": "scatter",
           "x": [
            1,
            2,
            3,
            4,
            5,
            6
           ],
           "y": [
            8,
            6,
            4,
            3,
            9,
            4
           ]
          },
          {
           "type": "scatter",
           "x": [
            1,
            2,
            3,
            4,
            5,
            6
           ],
           "y": [
            10,
            9,
            11,
            4,
            1,
            8
           ]
          }
         ],
         "name": "frame5",
         "traces": [
          0,
          1
         ]
        },
        {
         "data": [
          {
           "type": "scatter",
           "x": [
            1,
            2,
            3,
            4,
            5,
            6,
            7
           ],
           "y": [
            8,
            6,
            4,
            3,
            9,
            4,
            2
           ]
          },
          {
           "type": "scatter",
           "x": [
            1,
            2,
            3,
            4,
            5,
            6,
            7
           ],
           "y": [
            10,
            9,
            11,
            4,
            1,
            8,
            11
           ]
          }
         ],
         "name": "frame6",
         "traces": [
          0,
          1
         ]
        },
        {
         "data": [
          {
           "type": "scatter",
           "x": [
            1,
            2,
            3,
            4,
            5,
            6,
            7,
            8
           ],
           "y": [
            8,
            6,
            4,
            3,
            9,
            4,
            2,
            5
           ]
          },
          {
           "type": "scatter",
           "x": [
            1,
            2,
            3,
            4,
            5,
            6,
            7,
            8
           ],
           "y": [
            10,
            9,
            11,
            4,
            1,
            8,
            11,
            6
           ]
          }
         ],
         "name": "frame7",
         "traces": [
          0,
          1
         ]
        },
        {
         "data": [
          {
           "type": "scatter",
           "x": [
            1,
            2,
            3,
            4,
            5,
            6,
            7,
            8,
            9
           ],
           "y": [
            8,
            6,
            4,
            3,
            9,
            4,
            2,
            5,
            9
           ]
          },
          {
           "type": "scatter",
           "x": [
            1,
            2,
            3,
            4,
            5,
            6,
            7,
            8,
            9
           ],
           "y": [
            10,
            9,
            11,
            4,
            1,
            8,
            11,
            6,
            10
           ]
          }
         ],
         "name": "frame8",
         "traces": [
          0,
          1
         ]
        },
        {
         "data": [
          {
           "type": "scatter",
           "x": [
            1,
            2,
            3,
            4,
            5,
            6,
            7,
            8,
            9,
            10
           ],
           "y": [
            8,
            6,
            4,
            3,
            9,
            4,
            2,
            5,
            9,
            7
           ]
          },
          {
           "type": "scatter",
           "x": [
            1,
            2,
            3,
            4,
            5,
            6,
            7,
            8,
            9,
            10
           ],
           "y": [
            10,
            9,
            11,
            4,
            1,
            8,
            11,
            6,
            10,
            4
           ]
          }
         ],
         "name": "frame9",
         "traces": [
          0,
          1
         ]
        },
        {
         "data": [
          {
           "type": "scatter",
           "x": [
            1,
            2,
            3,
            4,
            5,
            6,
            7,
            8,
            9,
            10,
            11
           ],
           "y": [
            8,
            6,
            4,
            3,
            9,
            4,
            2,
            5,
            9,
            7,
            9
           ]
          },
          {
           "type": "scatter",
           "x": [
            1,
            2,
            3,
            4,
            5,
            6,
            7,
            8,
            9,
            10,
            11
           ],
           "y": [
            10,
            9,
            11,
            4,
            1,
            8,
            11,
            6,
            10,
            4,
            3
           ]
          }
         ],
         "name": "frame10",
         "traces": [
          0,
          1
         ]
        },
        {
         "data": [
          {
           "type": "scatter",
           "x": [
            1,
            2,
            3,
            4,
            5,
            6,
            7,
            8,
            9,
            10,
            11,
            12
           ],
           "y": [
            8,
            6,
            4,
            3,
            9,
            4,
            2,
            5,
            9,
            7,
            9,
            8
           ]
          },
          {
           "type": "scatter",
           "x": [
            1,
            2,
            3,
            4,
            5,
            6,
            7,
            8,
            9,
            10,
            11,
            12
           ],
           "y": [
            10,
            9,
            11,
            4,
            1,
            8,
            11,
            6,
            10,
            4,
            3,
            7
           ]
          }
         ],
         "name": "frame11",
         "traces": [
          0,
          1
         ]
        },
        {
         "data": [
          {
           "type": "scatter",
           "x": [
            1,
            2,
            3,
            4,
            5,
            6,
            7,
            8,
            9,
            10,
            11,
            12,
            13
           ],
           "y": [
            8,
            6,
            4,
            3,
            9,
            4,
            2,
            5,
            9,
            7,
            9,
            8,
            8
           ]
          },
          {
           "type": "scatter",
           "x": [
            1,
            2,
            3,
            4,
            5,
            6,
            7,
            8,
            9,
            10,
            11,
            12,
            13
           ],
           "y": [
            10,
            9,
            11,
            4,
            1,
            8,
            11,
            6,
            10,
            4,
            3,
            7,
            7
           ]
          }
         ],
         "name": "frame12",
         "traces": [
          0,
          1
         ]
        },
        {
         "data": [
          {
           "type": "scatter",
           "x": [
            1,
            2,
            3,
            4,
            5,
            6,
            7,
            8,
            9,
            10,
            11,
            12,
            13,
            14
           ],
           "y": [
            8,
            6,
            4,
            3,
            9,
            4,
            2,
            5,
            9,
            7,
            9,
            8,
            8,
            9
           ]
          },
          {
           "type": "scatter",
           "x": [
            1,
            2,
            3,
            4,
            5,
            6,
            7,
            8,
            9,
            10,
            11,
            12,
            13,
            14
           ],
           "y": [
            10,
            9,
            11,
            4,
            1,
            8,
            11,
            6,
            10,
            4,
            3,
            7,
            7,
            9
           ]
          }
         ],
         "name": "frame13",
         "traces": [
          0,
          1
         ]
        },
        {
         "data": [
          {
           "type": "scatter",
           "x": [
            1,
            2,
            3,
            4,
            5,
            6,
            7,
            8,
            9,
            10,
            11,
            12,
            13,
            14,
            15
           ],
           "y": [
            8,
            6,
            4,
            3,
            9,
            4,
            2,
            5,
            9,
            7,
            9,
            8,
            8,
            9,
            5
           ]
          },
          {
           "type": "scatter",
           "x": [
            1,
            2,
            3,
            4,
            5,
            6,
            7,
            8,
            9,
            10,
            11,
            12,
            13,
            14,
            15
           ],
           "y": [
            10,
            9,
            11,
            4,
            1,
            8,
            11,
            6,
            10,
            4,
            3,
            7,
            7,
            9,
            3
           ]
          }
         ],
         "name": "frame14",
         "traces": [
          0,
          1
         ]
        },
        {
         "data": [
          {
           "type": "scatter",
           "x": [
            1,
            2,
            3,
            4,
            5,
            6,
            7,
            8,
            9,
            10,
            11,
            12,
            13,
            14,
            15,
            16
           ],
           "y": [
            8,
            6,
            4,
            3,
            9,
            4,
            2,
            5,
            9,
            7,
            9,
            8,
            8,
            9,
            5,
            6
           ]
          },
          {
           "type": "scatter",
           "x": [
            1,
            2,
            3,
            4,
            5,
            6,
            7,
            8,
            9,
            10,
            11,
            12,
            13,
            14,
            15,
            16
           ],
           "y": [
            10,
            9,
            11,
            4,
            1,
            8,
            11,
            6,
            10,
            4,
            3,
            7,
            7,
            9,
            3,
            9
           ]
          }
         ],
         "name": "frame15",
         "traces": [
          0,
          1
         ]
        },
        {
         "data": [
          {
           "type": "scatter",
           "x": [
            1,
            2,
            3,
            4,
            5,
            6,
            7,
            8,
            9,
            10,
            11,
            12,
            13,
            14,
            15,
            16,
            17
           ],
           "y": [
            8,
            6,
            4,
            3,
            9,
            4,
            2,
            5,
            9,
            7,
            9,
            8,
            8,
            9,
            5,
            6,
            1
           ]
          },
          {
           "type": "scatter",
           "x": [
            1,
            2,
            3,
            4,
            5,
            6,
            7,
            8,
            9,
            10,
            11,
            12,
            13,
            14,
            15,
            16,
            17
           ],
           "y": [
            10,
            9,
            11,
            4,
            1,
            8,
            11,
            6,
            10,
            4,
            3,
            7,
            7,
            9,
            3,
            9,
            7
           ]
          }
         ],
         "name": "frame16",
         "traces": [
          0,
          1
         ]
        },
        {
         "data": [
          {
           "type": "scatter",
           "x": [
            1,
            2,
            3,
            4,
            5,
            6,
            7,
            8,
            9,
            10,
            11,
            12,
            13,
            14,
            15,
            16,
            17,
            18
           ],
           "y": [
            8,
            6,
            4,
            3,
            9,
            4,
            2,
            5,
            9,
            7,
            9,
            8,
            8,
            9,
            5,
            6,
            1,
            6
           ]
          },
          {
           "type": "scatter",
           "x": [
            1,
            2,
            3,
            4,
            5,
            6,
            7,
            8,
            9,
            10,
            11,
            12,
            13,
            14,
            15,
            16,
            17,
            18
           ],
           "y": [
            10,
            9,
            11,
            4,
            1,
            8,
            11,
            6,
            10,
            4,
            3,
            7,
            7,
            9,
            3,
            9,
            7,
            3
           ]
          }
         ],
         "name": "frame17",
         "traces": [
          0,
          1
         ]
        },
        {
         "data": [
          {
           "type": "scatter",
           "x": [
            1,
            2,
            3,
            4,
            5,
            6,
            7,
            8,
            9,
            10,
            11,
            12,
            13,
            14,
            15,
            16,
            17,
            18,
            19
           ],
           "y": [
            8,
            6,
            4,
            3,
            9,
            4,
            2,
            5,
            9,
            7,
            9,
            8,
            8,
            9,
            5,
            6,
            1,
            6,
            4
           ]
          },
          {
           "type": "scatter",
           "x": [
            1,
            2,
            3,
            4,
            5,
            6,
            7,
            8,
            9,
            10,
            11,
            12,
            13,
            14,
            15,
            16,
            17,
            18,
            19
           ],
           "y": [
            10,
            9,
            11,
            4,
            1,
            8,
            11,
            6,
            10,
            4,
            3,
            7,
            7,
            9,
            3,
            9,
            7,
            3,
            5
           ]
          }
         ],
         "name": "frame18",
         "traces": [
          0,
          1
         ]
        },
        {
         "data": [
          {
           "type": "scatter",
           "x": [
            1,
            2,
            3,
            4,
            5,
            6,
            7,
            8,
            9,
            10,
            11,
            12,
            13,
            14,
            15,
            16,
            17,
            18,
            19,
            20
           ],
           "y": [
            8,
            6,
            4,
            3,
            9,
            4,
            2,
            5,
            9,
            7,
            9,
            8,
            8,
            9,
            5,
            6,
            1,
            6,
            4,
            5
           ]
          },
          {
           "type": "scatter",
           "x": [
            1,
            2,
            3,
            4,
            5,
            6,
            7,
            8,
            9,
            10,
            11,
            12,
            13,
            14,
            15,
            16,
            17,
            18,
            19,
            20
           ],
           "y": [
            10,
            9,
            11,
            4,
            1,
            8,
            11,
            6,
            10,
            4,
            3,
            7,
            7,
            9,
            3,
            9,
            7,
            3,
            5,
            2
           ]
          }
         ],
         "name": "frame19",
         "traces": [
          0,
          1
         ]
        },
        {
         "data": [
          {
           "type": "scatter",
           "x": [
            1,
            2,
            3,
            4,
            5,
            6,
            7,
            8,
            9,
            10,
            11,
            12,
            13,
            14,
            15,
            16,
            17,
            18,
            19,
            20,
            21
           ],
           "y": [
            8,
            6,
            4,
            3,
            9,
            4,
            2,
            5,
            9,
            7,
            9,
            8,
            8,
            9,
            5,
            6,
            1,
            6,
            4,
            5,
            10
           ]
          },
          {
           "type": "scatter",
           "x": [
            1,
            2,
            3,
            4,
            5,
            6,
            7,
            8,
            9,
            10,
            11,
            12,
            13,
            14,
            15,
            16,
            17,
            18,
            19,
            20,
            21
           ],
           "y": [
            10,
            9,
            11,
            4,
            1,
            8,
            11,
            6,
            10,
            4,
            3,
            7,
            7,
            9,
            3,
            9,
            7,
            3,
            5,
            2,
            5
           ]
          }
         ],
         "name": "frame20",
         "traces": [
          0,
          1
         ]
        },
        {
         "data": [
          {
           "type": "scatter",
           "x": [
            1,
            2,
            3,
            4,
            5,
            6,
            7,
            8,
            9,
            10,
            11,
            12,
            13,
            14,
            15,
            16,
            17,
            18,
            19,
            20,
            21,
            22
           ],
           "y": [
            8,
            6,
            4,
            3,
            9,
            4,
            2,
            5,
            9,
            7,
            9,
            8,
            8,
            9,
            5,
            6,
            1,
            6,
            4,
            5,
            10,
            11
           ]
          },
          {
           "type": "scatter",
           "x": [
            1,
            2,
            3,
            4,
            5,
            6,
            7,
            8,
            9,
            10,
            11,
            12,
            13,
            14,
            15,
            16,
            17,
            18,
            19,
            20,
            21,
            22
           ],
           "y": [
            10,
            9,
            11,
            4,
            1,
            8,
            11,
            6,
            10,
            4,
            3,
            7,
            7,
            9,
            3,
            9,
            7,
            3,
            5,
            2,
            5,
            9
           ]
          }
         ],
         "name": "frame21",
         "traces": [
          0,
          1
         ]
        },
        {
         "data": [
          {
           "type": "scatter",
           "x": [
            1,
            2,
            3,
            4,
            5,
            6,
            7,
            8,
            9,
            10,
            11,
            12,
            13,
            14,
            15,
            16,
            17,
            18,
            19,
            20,
            21,
            22,
            23
           ],
           "y": [
            8,
            6,
            4,
            3,
            9,
            4,
            2,
            5,
            9,
            7,
            9,
            8,
            8,
            9,
            5,
            6,
            1,
            6,
            4,
            5,
            10,
            11,
            5
           ]
          },
          {
           "type": "scatter",
           "x": [
            1,
            2,
            3,
            4,
            5,
            6,
            7,
            8,
            9,
            10,
            11,
            12,
            13,
            14,
            15,
            16,
            17,
            18,
            19,
            20,
            21,
            22,
            23
           ],
           "y": [
            10,
            9,
            11,
            4,
            1,
            8,
            11,
            6,
            10,
            4,
            3,
            7,
            7,
            9,
            3,
            9,
            7,
            3,
            5,
            2,
            5,
            9,
            8
           ]
          }
         ],
         "name": "frame22",
         "traces": [
          0,
          1
         ]
        },
        {
         "data": [
          {
           "type": "scatter",
           "x": [
            1,
            2,
            3,
            4,
            5,
            6,
            7,
            8,
            9,
            10,
            11,
            12,
            13,
            14,
            15,
            16,
            17,
            18,
            19,
            20,
            21,
            22,
            23,
            24
           ],
           "y": [
            8,
            6,
            4,
            3,
            9,
            4,
            2,
            5,
            9,
            7,
            9,
            8,
            8,
            9,
            5,
            6,
            1,
            6,
            4,
            5,
            10,
            11,
            5,
            10
           ]
          },
          {
           "type": "scatter",
           "x": [
            1,
            2,
            3,
            4,
            5,
            6,
            7,
            8,
            9,
            10,
            11,
            12,
            13,
            14,
            15,
            16,
            17,
            18,
            19,
            20,
            21,
            22,
            23,
            24
           ],
           "y": [
            10,
            9,
            11,
            4,
            1,
            8,
            11,
            6,
            10,
            4,
            3,
            7,
            7,
            9,
            3,
            9,
            7,
            3,
            5,
            2,
            5,
            9,
            8,
            7
           ]
          }
         ],
         "name": "frame23",
         "traces": [
          0,
          1
         ]
        },
        {
         "data": [
          {
           "type": "scatter",
           "x": [
            1,
            2,
            3,
            4,
            5,
            6,
            7,
            8,
            9,
            10,
            11,
            12,
            13,
            14,
            15,
            16,
            17,
            18,
            19,
            20,
            21,
            22,
            23,
            24,
            25
           ],
           "y": [
            8,
            6,
            4,
            3,
            9,
            4,
            2,
            5,
            9,
            7,
            9,
            8,
            8,
            9,
            5,
            6,
            1,
            6,
            4,
            5,
            10,
            11,
            5,
            10,
            11
           ]
          },
          {
           "type": "scatter",
           "x": [
            1,
            2,
            3,
            4,
            5,
            6,
            7,
            8,
            9,
            10,
            11,
            12,
            13,
            14,
            15,
            16,
            17,
            18,
            19,
            20,
            21,
            22,
            23,
            24,
            25
           ],
           "y": [
            10,
            9,
            11,
            4,
            1,
            8,
            11,
            6,
            10,
            4,
            3,
            7,
            7,
            9,
            3,
            9,
            7,
            3,
            5,
            2,
            5,
            9,
            8,
            7,
            4
           ]
          }
         ],
         "name": "frame24",
         "traces": [
          0,
          1
         ]
        },
        {
         "data": [
          {
           "type": "scatter",
           "x": [
            1,
            2,
            3,
            4,
            5,
            6,
            7,
            8,
            9,
            10,
            11,
            12,
            13,
            14,
            15,
            16,
            17,
            18,
            19,
            20,
            21,
            22,
            23,
            24,
            25,
            26
           ],
           "y": [
            8,
            6,
            4,
            3,
            9,
            4,
            2,
            5,
            9,
            7,
            9,
            8,
            8,
            9,
            5,
            6,
            1,
            6,
            4,
            5,
            10,
            11,
            5,
            10,
            11,
            3
           ]
          },
          {
           "type": "scatter",
           "x": [
            1,
            2,
            3,
            4,
            5,
            6,
            7,
            8,
            9,
            10,
            11,
            12,
            13,
            14,
            15,
            16,
            17,
            18,
            19,
            20,
            21,
            22,
            23,
            24,
            25,
            26
           ],
           "y": [
            10,
            9,
            11,
            4,
            1,
            8,
            11,
            6,
            10,
            4,
            3,
            7,
            7,
            9,
            3,
            9,
            7,
            3,
            5,
            2,
            5,
            9,
            8,
            7,
            4,
            11
           ]
          }
         ],
         "name": "frame25",
         "traces": [
          0,
          1
         ]
        },
        {
         "data": [
          {
           "type": "scatter",
           "x": [
            1,
            2,
            3,
            4,
            5,
            6,
            7,
            8,
            9,
            10,
            11,
            12,
            13,
            14,
            15,
            16,
            17,
            18,
            19,
            20,
            21,
            22,
            23,
            24,
            25,
            26,
            27
           ],
           "y": [
            8,
            6,
            4,
            3,
            9,
            4,
            2,
            5,
            9,
            7,
            9,
            8,
            8,
            9,
            5,
            6,
            1,
            6,
            4,
            5,
            10,
            11,
            5,
            10,
            11,
            3,
            11
           ]
          },
          {
           "type": "scatter",
           "x": [
            1,
            2,
            3,
            4,
            5,
            6,
            7,
            8,
            9,
            10,
            11,
            12,
            13,
            14,
            15,
            16,
            17,
            18,
            19,
            20,
            21,
            22,
            23,
            24,
            25,
            26,
            27
           ],
           "y": [
            10,
            9,
            11,
            4,
            1,
            8,
            11,
            6,
            10,
            4,
            3,
            7,
            7,
            9,
            3,
            9,
            7,
            3,
            5,
            2,
            5,
            9,
            8,
            7,
            4,
            11,
            10
           ]
          }
         ],
         "name": "frame26",
         "traces": [
          0,
          1
         ]
        },
        {
         "data": [
          {
           "type": "scatter",
           "x": [
            1,
            2,
            3,
            4,
            5,
            6,
            7,
            8,
            9,
            10,
            11,
            12,
            13,
            14,
            15,
            16,
            17,
            18,
            19,
            20,
            21,
            22,
            23,
            24,
            25,
            26,
            27,
            28
           ],
           "y": [
            8,
            6,
            4,
            3,
            9,
            4,
            2,
            5,
            9,
            7,
            9,
            8,
            8,
            9,
            5,
            6,
            1,
            6,
            4,
            5,
            10,
            11,
            5,
            10,
            11,
            3,
            11,
            5
           ]
          },
          {
           "type": "scatter",
           "x": [
            1,
            2,
            3,
            4,
            5,
            6,
            7,
            8,
            9,
            10,
            11,
            12,
            13,
            14,
            15,
            16,
            17,
            18,
            19,
            20,
            21,
            22,
            23,
            24,
            25,
            26,
            27,
            28
           ],
           "y": [
            10,
            9,
            11,
            4,
            1,
            8,
            11,
            6,
            10,
            4,
            3,
            7,
            7,
            9,
            3,
            9,
            7,
            3,
            5,
            2,
            5,
            9,
            8,
            7,
            4,
            11,
            10,
            10
           ]
          }
         ],
         "name": "frame27",
         "traces": [
          0,
          1
         ]
        },
        {
         "data": [
          {
           "type": "scatter",
           "x": [
            1,
            2,
            3,
            4,
            5,
            6,
            7,
            8,
            9,
            10,
            11,
            12,
            13,
            14,
            15,
            16,
            17,
            18,
            19,
            20,
            21,
            22,
            23,
            24,
            25,
            26,
            27,
            28,
            29
           ],
           "y": [
            8,
            6,
            4,
            3,
            9,
            4,
            2,
            5,
            9,
            7,
            9,
            8,
            8,
            9,
            5,
            6,
            1,
            6,
            4,
            5,
            10,
            11,
            5,
            10,
            11,
            3,
            11,
            5,
            1
           ]
          },
          {
           "type": "scatter",
           "x": [
            1,
            2,
            3,
            4,
            5,
            6,
            7,
            8,
            9,
            10,
            11,
            12,
            13,
            14,
            15,
            16,
            17,
            18,
            19,
            20,
            21,
            22,
            23,
            24,
            25,
            26,
            27,
            28,
            29
           ],
           "y": [
            10,
            9,
            11,
            4,
            1,
            8,
            11,
            6,
            10,
            4,
            3,
            7,
            7,
            9,
            3,
            9,
            7,
            3,
            5,
            2,
            5,
            9,
            8,
            7,
            4,
            11,
            10,
            10,
            5
           ]
          }
         ],
         "name": "frame28",
         "traces": [
          0,
          1
         ]
        },
        {
         "data": [
          {
           "type": "scatter",
           "x": [
            1,
            2,
            3,
            4,
            5,
            6,
            7,
            8,
            9,
            10,
            11,
            12,
            13,
            14,
            15,
            16,
            17,
            18,
            19,
            20,
            21,
            22,
            23,
            24,
            25,
            26,
            27,
            28,
            29,
            30
           ],
           "y": [
            8,
            6,
            4,
            3,
            9,
            4,
            2,
            5,
            9,
            7,
            9,
            8,
            8,
            9,
            5,
            6,
            1,
            6,
            4,
            5,
            10,
            11,
            5,
            10,
            11,
            3,
            11,
            5,
            1,
            2
           ]
          },
          {
           "type": "scatter",
           "x": [
            1,
            2,
            3,
            4,
            5,
            6,
            7,
            8,
            9,
            10,
            11,
            12,
            13,
            14,
            15,
            16,
            17,
            18,
            19,
            20,
            21,
            22,
            23,
            24,
            25,
            26,
            27,
            28,
            29,
            30
           ],
           "y": [
            10,
            9,
            11,
            4,
            1,
            8,
            11,
            6,
            10,
            4,
            3,
            7,
            7,
            9,
            3,
            9,
            7,
            3,
            5,
            2,
            5,
            9,
            8,
            7,
            4,
            11,
            10,
            10,
            5,
            10
           ]
          }
         ],
         "name": "frame29",
         "traces": [
          0,
          1
         ]
        },
        {
         "data": [
          {
           "type": "scatter",
           "x": [
            1,
            2,
            3,
            4,
            5,
            6,
            7,
            8,
            9,
            10,
            11,
            12,
            13,
            14,
            15,
            16,
            17,
            18,
            19,
            20,
            21,
            22,
            23,
            24,
            25,
            26,
            27,
            28,
            29,
            30,
            31
           ],
           "y": [
            8,
            6,
            4,
            3,
            9,
            4,
            2,
            5,
            9,
            7,
            9,
            8,
            8,
            9,
            5,
            6,
            1,
            6,
            4,
            5,
            10,
            11,
            5,
            10,
            11,
            3,
            11,
            5,
            1,
            2,
            1
           ]
          },
          {
           "type": "scatter",
           "x": [
            1,
            2,
            3,
            4,
            5,
            6,
            7,
            8,
            9,
            10,
            11,
            12,
            13,
            14,
            15,
            16,
            17,
            18,
            19,
            20,
            21,
            22,
            23,
            24,
            25,
            26,
            27,
            28,
            29,
            30,
            31
           ],
           "y": [
            10,
            9,
            11,
            4,
            1,
            8,
            11,
            6,
            10,
            4,
            3,
            7,
            7,
            9,
            3,
            9,
            7,
            3,
            5,
            2,
            5,
            9,
            8,
            7,
            4,
            11,
            10,
            10,
            5,
            10,
            3
           ]
          }
         ],
         "name": "frame30",
         "traces": [
          0,
          1
         ]
        },
        {
         "data": [
          {
           "type": "scatter",
           "x": [
            1,
            2,
            3,
            4,
            5,
            6,
            7,
            8,
            9,
            10,
            11,
            12,
            13,
            14,
            15,
            16,
            17,
            18,
            19,
            20,
            21,
            22,
            23,
            24,
            25,
            26,
            27,
            28,
            29,
            30,
            31,
            32
           ],
           "y": [
            8,
            6,
            4,
            3,
            9,
            4,
            2,
            5,
            9,
            7,
            9,
            8,
            8,
            9,
            5,
            6,
            1,
            6,
            4,
            5,
            10,
            11,
            5,
            10,
            11,
            3,
            11,
            5,
            1,
            2,
            1,
            5
           ]
          },
          {
           "type": "scatter",
           "x": [
            1,
            2,
            3,
            4,
            5,
            6,
            7,
            8,
            9,
            10,
            11,
            12,
            13,
            14,
            15,
            16,
            17,
            18,
            19,
            20,
            21,
            22,
            23,
            24,
            25,
            26,
            27,
            28,
            29,
            30,
            31,
            32
           ],
           "y": [
            10,
            9,
            11,
            4,
            1,
            8,
            11,
            6,
            10,
            4,
            3,
            7,
            7,
            9,
            3,
            9,
            7,
            3,
            5,
            2,
            5,
            9,
            8,
            7,
            4,
            11,
            10,
            10,
            5,
            10,
            3,
            10
           ]
          }
         ],
         "name": "frame31",
         "traces": [
          0,
          1
         ]
        },
        {
         "data": [
          {
           "type": "scatter",
           "x": [
            1,
            2,
            3,
            4,
            5,
            6,
            7,
            8,
            9,
            10,
            11,
            12,
            13,
            14,
            15,
            16,
            17,
            18,
            19,
            20,
            21,
            22,
            23,
            24,
            25,
            26,
            27,
            28,
            29,
            30,
            31,
            32,
            33
           ],
           "y": [
            8,
            6,
            4,
            3,
            9,
            4,
            2,
            5,
            9,
            7,
            9,
            8,
            8,
            9,
            5,
            6,
            1,
            6,
            4,
            5,
            10,
            11,
            5,
            10,
            11,
            3,
            11,
            5,
            1,
            2,
            1,
            5,
            3
           ]
          },
          {
           "type": "scatter",
           "x": [
            1,
            2,
            3,
            4,
            5,
            6,
            7,
            8,
            9,
            10,
            11,
            12,
            13,
            14,
            15,
            16,
            17,
            18,
            19,
            20,
            21,
            22,
            23,
            24,
            25,
            26,
            27,
            28,
            29,
            30,
            31,
            32,
            33
           ],
           "y": [
            10,
            9,
            11,
            4,
            1,
            8,
            11,
            6,
            10,
            4,
            3,
            7,
            7,
            9,
            3,
            9,
            7,
            3,
            5,
            2,
            5,
            9,
            8,
            7,
            4,
            11,
            10,
            10,
            5,
            10,
            3,
            10,
            10
           ]
          }
         ],
         "name": "frame32",
         "traces": [
          0,
          1
         ]
        },
        {
         "data": [
          {
           "type": "scatter",
           "x": [
            1,
            2,
            3,
            4,
            5,
            6,
            7,
            8,
            9,
            10,
            11,
            12,
            13,
            14,
            15,
            16,
            17,
            18,
            19,
            20,
            21,
            22,
            23,
            24,
            25,
            26,
            27,
            28,
            29,
            30,
            31,
            32,
            33,
            34
           ],
           "y": [
            8,
            6,
            4,
            3,
            9,
            4,
            2,
            5,
            9,
            7,
            9,
            8,
            8,
            9,
            5,
            6,
            1,
            6,
            4,
            5,
            10,
            11,
            5,
            10,
            11,
            3,
            11,
            5,
            1,
            2,
            1,
            5,
            3,
            2
           ]
          },
          {
           "type": "scatter",
           "x": [
            1,
            2,
            3,
            4,
            5,
            6,
            7,
            8,
            9,
            10,
            11,
            12,
            13,
            14,
            15,
            16,
            17,
            18,
            19,
            20,
            21,
            22,
            23,
            24,
            25,
            26,
            27,
            28,
            29,
            30,
            31,
            32,
            33,
            34
           ],
           "y": [
            10,
            9,
            11,
            4,
            1,
            8,
            11,
            6,
            10,
            4,
            3,
            7,
            7,
            9,
            3,
            9,
            7,
            3,
            5,
            2,
            5,
            9,
            8,
            7,
            4,
            11,
            10,
            10,
            5,
            10,
            3,
            10,
            10,
            9
           ]
          }
         ],
         "name": "frame33",
         "traces": [
          0,
          1
         ]
        },
        {
         "data": [
          {
           "type": "scatter",
           "x": [
            1,
            2,
            3,
            4,
            5,
            6,
            7,
            8,
            9,
            10,
            11,
            12,
            13,
            14,
            15,
            16,
            17,
            18,
            19,
            20,
            21,
            22,
            23,
            24,
            25,
            26,
            27,
            28,
            29,
            30,
            31,
            32,
            33,
            34,
            35
           ],
           "y": [
            8,
            6,
            4,
            3,
            9,
            4,
            2,
            5,
            9,
            7,
            9,
            8,
            8,
            9,
            5,
            6,
            1,
            6,
            4,
            5,
            10,
            11,
            5,
            10,
            11,
            3,
            11,
            5,
            1,
            2,
            1,
            5,
            3,
            2,
            3
           ]
          },
          {
           "type": "scatter",
           "x": [
            1,
            2,
            3,
            4,
            5,
            6,
            7,
            8,
            9,
            10,
            11,
            12,
            13,
            14,
            15,
            16,
            17,
            18,
            19,
            20,
            21,
            22,
            23,
            24,
            25,
            26,
            27,
            28,
            29,
            30,
            31,
            32,
            33,
            34,
            35
           ],
           "y": [
            10,
            9,
            11,
            4,
            1,
            8,
            11,
            6,
            10,
            4,
            3,
            7,
            7,
            9,
            3,
            9,
            7,
            3,
            5,
            2,
            5,
            9,
            8,
            7,
            4,
            11,
            10,
            10,
            5,
            10,
            3,
            10,
            10,
            9,
            9
           ]
          }
         ],
         "name": "frame34",
         "traces": [
          0,
          1
         ]
        },
        {
         "data": [
          {
           "type": "scatter",
           "x": [
            1,
            2,
            3,
            4,
            5,
            6,
            7,
            8,
            9,
            10,
            11,
            12,
            13,
            14,
            15,
            16,
            17,
            18,
            19,
            20,
            21,
            22,
            23,
            24,
            25,
            26,
            27,
            28,
            29,
            30,
            31,
            32,
            33,
            34,
            35,
            36
           ],
           "y": [
            8,
            6,
            4,
            3,
            9,
            4,
            2,
            5,
            9,
            7,
            9,
            8,
            8,
            9,
            5,
            6,
            1,
            6,
            4,
            5,
            10,
            11,
            5,
            10,
            11,
            3,
            11,
            5,
            1,
            2,
            1,
            5,
            3,
            2,
            3,
            10
           ]
          },
          {
           "type": "scatter",
           "x": [
            1,
            2,
            3,
            4,
            5,
            6,
            7,
            8,
            9,
            10,
            11,
            12,
            13,
            14,
            15,
            16,
            17,
            18,
            19,
            20,
            21,
            22,
            23,
            24,
            25,
            26,
            27,
            28,
            29,
            30,
            31,
            32,
            33,
            34,
            35,
            36
           ],
           "y": [
            10,
            9,
            11,
            4,
            1,
            8,
            11,
            6,
            10,
            4,
            3,
            7,
            7,
            9,
            3,
            9,
            7,
            3,
            5,
            2,
            5,
            9,
            8,
            7,
            4,
            11,
            10,
            10,
            5,
            10,
            3,
            10,
            10,
            9,
            9,
            7
           ]
          }
         ],
         "name": "frame35",
         "traces": [
          0,
          1
         ]
        },
        {
         "data": [
          {
           "type": "scatter",
           "x": [
            1,
            2,
            3,
            4,
            5,
            6,
            7,
            8,
            9,
            10,
            11,
            12,
            13,
            14,
            15,
            16,
            17,
            18,
            19,
            20,
            21,
            22,
            23,
            24,
            25,
            26,
            27,
            28,
            29,
            30,
            31,
            32,
            33,
            34,
            35,
            36,
            37
           ],
           "y": [
            8,
            6,
            4,
            3,
            9,
            4,
            2,
            5,
            9,
            7,
            9,
            8,
            8,
            9,
            5,
            6,
            1,
            6,
            4,
            5,
            10,
            11,
            5,
            10,
            11,
            3,
            11,
            5,
            1,
            2,
            1,
            5,
            3,
            2,
            3,
            10,
            9
           ]
          },
          {
           "type": "scatter",
           "x": [
            1,
            2,
            3,
            4,
            5,
            6,
            7,
            8,
            9,
            10,
            11,
            12,
            13,
            14,
            15,
            16,
            17,
            18,
            19,
            20,
            21,
            22,
            23,
            24,
            25,
            26,
            27,
            28,
            29,
            30,
            31,
            32,
            33,
            34,
            35,
            36,
            37
           ],
           "y": [
            10,
            9,
            11,
            4,
            1,
            8,
            11,
            6,
            10,
            4,
            3,
            7,
            7,
            9,
            3,
            9,
            7,
            3,
            5,
            2,
            5,
            9,
            8,
            7,
            4,
            11,
            10,
            10,
            5,
            10,
            3,
            10,
            10,
            9,
            9,
            7,
            9
           ]
          }
         ],
         "name": "frame36",
         "traces": [
          0,
          1
         ]
        },
        {
         "data": [
          {
           "type": "scatter",
           "x": [
            1,
            2,
            3,
            4,
            5,
            6,
            7,
            8,
            9,
            10,
            11,
            12,
            13,
            14,
            15,
            16,
            17,
            18,
            19,
            20,
            21,
            22,
            23,
            24,
            25,
            26,
            27,
            28,
            29,
            30,
            31,
            32,
            33,
            34,
            35,
            36,
            37,
            38
           ],
           "y": [
            8,
            6,
            4,
            3,
            9,
            4,
            2,
            5,
            9,
            7,
            9,
            8,
            8,
            9,
            5,
            6,
            1,
            6,
            4,
            5,
            10,
            11,
            5,
            10,
            11,
            3,
            11,
            5,
            1,
            2,
            1,
            5,
            3,
            2,
            3,
            10,
            9,
            3
           ]
          },
          {
           "type": "scatter",
           "x": [
            1,
            2,
            3,
            4,
            5,
            6,
            7,
            8,
            9,
            10,
            11,
            12,
            13,
            14,
            15,
            16,
            17,
            18,
            19,
            20,
            21,
            22,
            23,
            24,
            25,
            26,
            27,
            28,
            29,
            30,
            31,
            32,
            33,
            34,
            35,
            36,
            37,
            38
           ],
           "y": [
            10,
            9,
            11,
            4,
            1,
            8,
            11,
            6,
            10,
            4,
            3,
            7,
            7,
            9,
            3,
            9,
            7,
            3,
            5,
            2,
            5,
            9,
            8,
            7,
            4,
            11,
            10,
            10,
            5,
            10,
            3,
            10,
            10,
            9,
            9,
            7,
            9,
            11
           ]
          }
         ],
         "name": "frame37",
         "traces": [
          0,
          1
         ]
        },
        {
         "data": [
          {
           "type": "scatter",
           "x": [
            1,
            2,
            3,
            4,
            5,
            6,
            7,
            8,
            9,
            10,
            11,
            12,
            13,
            14,
            15,
            16,
            17,
            18,
            19,
            20,
            21,
            22,
            23,
            24,
            25,
            26,
            27,
            28,
            29,
            30,
            31,
            32,
            33,
            34,
            35,
            36,
            37,
            38,
            39
           ],
           "y": [
            8,
            6,
            4,
            3,
            9,
            4,
            2,
            5,
            9,
            7,
            9,
            8,
            8,
            9,
            5,
            6,
            1,
            6,
            4,
            5,
            10,
            11,
            5,
            10,
            11,
            3,
            11,
            5,
            1,
            2,
            1,
            5,
            3,
            2,
            3,
            10,
            9,
            3,
            9
           ]
          },
          {
           "type": "scatter",
           "x": [
            1,
            2,
            3,
            4,
            5,
            6,
            7,
            8,
            9,
            10,
            11,
            12,
            13,
            14,
            15,
            16,
            17,
            18,
            19,
            20,
            21,
            22,
            23,
            24,
            25,
            26,
            27,
            28,
            29,
            30,
            31,
            32,
            33,
            34,
            35,
            36,
            37,
            38,
            39
           ],
           "y": [
            10,
            9,
            11,
            4,
            1,
            8,
            11,
            6,
            10,
            4,
            3,
            7,
            7,
            9,
            3,
            9,
            7,
            3,
            5,
            2,
            5,
            9,
            8,
            7,
            4,
            11,
            10,
            10,
            5,
            10,
            3,
            10,
            10,
            9,
            9,
            7,
            9,
            11,
            4
           ]
          }
         ],
         "name": "frame38",
         "traces": [
          0,
          1
         ]
        },
        {
         "data": [
          {
           "type": "scatter",
           "x": [
            1,
            2,
            3,
            4,
            5,
            6,
            7,
            8,
            9,
            10,
            11,
            12,
            13,
            14,
            15,
            16,
            17,
            18,
            19,
            20,
            21,
            22,
            23,
            24,
            25,
            26,
            27,
            28,
            29,
            30,
            31,
            32,
            33,
            34,
            35,
            36,
            37,
            38,
            39,
            40
           ],
           "y": [
            8,
            6,
            4,
            3,
            9,
            4,
            2,
            5,
            9,
            7,
            9,
            8,
            8,
            9,
            5,
            6,
            1,
            6,
            4,
            5,
            10,
            11,
            5,
            10,
            11,
            3,
            11,
            5,
            1,
            2,
            1,
            5,
            3,
            2,
            3,
            10,
            9,
            3,
            9,
            9
           ]
          },
          {
           "type": "scatter",
           "x": [
            1,
            2,
            3,
            4,
            5,
            6,
            7,
            8,
            9,
            10,
            11,
            12,
            13,
            14,
            15,
            16,
            17,
            18,
            19,
            20,
            21,
            22,
            23,
            24,
            25,
            26,
            27,
            28,
            29,
            30,
            31,
            32,
            33,
            34,
            35,
            36,
            37,
            38,
            39,
            40
           ],
           "y": [
            10,
            9,
            11,
            4,
            1,
            8,
            11,
            6,
            10,
            4,
            3,
            7,
            7,
            9,
            3,
            9,
            7,
            3,
            5,
            2,
            5,
            9,
            8,
            7,
            4,
            11,
            10,
            10,
            5,
            10,
            3,
            10,
            10,
            9,
            9,
            7,
            9,
            11,
            4,
            3
           ]
          }
         ],
         "name": "frame39",
         "traces": [
          0,
          1
         ]
        },
        {
         "data": [
          {
           "type": "scatter",
           "x": [
            1,
            2,
            3,
            4,
            5,
            6,
            7,
            8,
            9,
            10,
            11,
            12,
            13,
            14,
            15,
            16,
            17,
            18,
            19,
            20,
            21,
            22,
            23,
            24,
            25,
            26,
            27,
            28,
            29,
            30,
            31,
            32,
            33,
            34,
            35,
            36,
            37,
            38,
            39,
            40,
            41
           ],
           "y": [
            8,
            6,
            4,
            3,
            9,
            4,
            2,
            5,
            9,
            7,
            9,
            8,
            8,
            9,
            5,
            6,
            1,
            6,
            4,
            5,
            10,
            11,
            5,
            10,
            11,
            3,
            11,
            5,
            1,
            2,
            1,
            5,
            3,
            2,
            3,
            10,
            9,
            3,
            9,
            9,
            4
           ]
          },
          {
           "type": "scatter",
           "x": [
            1,
            2,
            3,
            4,
            5,
            6,
            7,
            8,
            9,
            10,
            11,
            12,
            13,
            14,
            15,
            16,
            17,
            18,
            19,
            20,
            21,
            22,
            23,
            24,
            25,
            26,
            27,
            28,
            29,
            30,
            31,
            32,
            33,
            34,
            35,
            36,
            37,
            38,
            39,
            40
           ],
           "y": [
            10,
            9,
            11,
            4,
            1,
            8,
            11,
            6,
            10,
            4,
            3,
            7,
            7,
            9,
            3,
            9,
            7,
            3,
            5,
            2,
            5,
            9,
            8,
            7,
            4,
            11,
            10,
            10,
            5,
            10,
            3,
            10,
            10,
            9,
            9,
            7,
            9,
            11,
            4,
            3
           ]
          }
         ],
         "name": "frame40",
         "traces": [
          0,
          1
         ]
        },
        {
         "data": [
          {
           "type": "scatter",
           "x": [
            1,
            2,
            3,
            4,
            5,
            6,
            7,
            8,
            9,
            10,
            11,
            12,
            13,
            14,
            15,
            16,
            17,
            18,
            19,
            20,
            21,
            22,
            23,
            24,
            25,
            26,
            27,
            28,
            29,
            30,
            31,
            32,
            33,
            34,
            35,
            36,
            37,
            38,
            39,
            40,
            41,
            42
           ],
           "y": [
            8,
            6,
            4,
            3,
            9,
            4,
            2,
            5,
            9,
            7,
            9,
            8,
            8,
            9,
            5,
            6,
            1,
            6,
            4,
            5,
            10,
            11,
            5,
            10,
            11,
            3,
            11,
            5,
            1,
            2,
            1,
            5,
            3,
            2,
            3,
            10,
            9,
            3,
            9,
            9,
            4,
            6
           ]
          },
          {
           "type": "scatter",
           "x": [
            1,
            2,
            3,
            4,
            5,
            6,
            7,
            8,
            9,
            10,
            11,
            12,
            13,
            14,
            15,
            16,
            17,
            18,
            19,
            20,
            21,
            22,
            23,
            24,
            25,
            26,
            27,
            28,
            29,
            30,
            31,
            32,
            33,
            34,
            35,
            36,
            37,
            38,
            39,
            40
           ],
           "y": [
            10,
            9,
            11,
            4,
            1,
            8,
            11,
            6,
            10,
            4,
            3,
            7,
            7,
            9,
            3,
            9,
            7,
            3,
            5,
            2,
            5,
            9,
            8,
            7,
            4,
            11,
            10,
            10,
            5,
            10,
            3,
            10,
            10,
            9,
            9,
            7,
            9,
            11,
            4,
            3
           ]
          }
         ],
         "name": "frame41",
         "traces": [
          0,
          1
         ]
        },
        {
         "data": [
          {
           "type": "scatter",
           "x": [
            1,
            2,
            3,
            4,
            5,
            6,
            7,
            8,
            9,
            10,
            11,
            12,
            13,
            14,
            15,
            16,
            17,
            18,
            19,
            20,
            21,
            22,
            23,
            24,
            25,
            26,
            27,
            28,
            29,
            30,
            31,
            32,
            33,
            34,
            35,
            36,
            37,
            38,
            39,
            40,
            41,
            42,
            43
           ],
           "y": [
            8,
            6,
            4,
            3,
            9,
            4,
            2,
            5,
            9,
            7,
            9,
            8,
            8,
            9,
            5,
            6,
            1,
            6,
            4,
            5,
            10,
            11,
            5,
            10,
            11,
            3,
            11,
            5,
            1,
            2,
            1,
            5,
            3,
            2,
            3,
            10,
            9,
            3,
            9,
            9,
            4,
            6,
            3
           ]
          },
          {
           "type": "scatter",
           "x": [
            1,
            2,
            3,
            4,
            5,
            6,
            7,
            8,
            9,
            10,
            11,
            12,
            13,
            14,
            15,
            16,
            17,
            18,
            19,
            20,
            21,
            22,
            23,
            24,
            25,
            26,
            27,
            28,
            29,
            30,
            31,
            32,
            33,
            34,
            35,
            36,
            37,
            38,
            39,
            40
           ],
           "y": [
            10,
            9,
            11,
            4,
            1,
            8,
            11,
            6,
            10,
            4,
            3,
            7,
            7,
            9,
            3,
            9,
            7,
            3,
            5,
            2,
            5,
            9,
            8,
            7,
            4,
            11,
            10,
            10,
            5,
            10,
            3,
            10,
            10,
            9,
            9,
            7,
            9,
            11,
            4,
            3
           ]
          }
         ],
         "name": "frame42",
         "traces": [
          0,
          1
         ]
        },
        {
         "data": [
          {
           "type": "scatter",
           "x": [
            1,
            2,
            3,
            4,
            5,
            6,
            7,
            8,
            9,
            10,
            11,
            12,
            13,
            14,
            15,
            16,
            17,
            18,
            19,
            20,
            21,
            22,
            23,
            24,
            25,
            26,
            27,
            28,
            29,
            30,
            31,
            32,
            33,
            34,
            35,
            36,
            37,
            38,
            39,
            40,
            41,
            42,
            43,
            44
           ],
           "y": [
            8,
            6,
            4,
            3,
            9,
            4,
            2,
            5,
            9,
            7,
            9,
            8,
            8,
            9,
            5,
            6,
            1,
            6,
            4,
            5,
            10,
            11,
            5,
            10,
            11,
            3,
            11,
            5,
            1,
            2,
            1,
            5,
            3,
            2,
            3,
            10,
            9,
            3,
            9,
            9,
            4,
            6,
            3,
            10
           ]
          },
          {
           "type": "scatter",
           "x": [
            1,
            2,
            3,
            4,
            5,
            6,
            7,
            8,
            9,
            10,
            11,
            12,
            13,
            14,
            15,
            16,
            17,
            18,
            19,
            20,
            21,
            22,
            23,
            24,
            25,
            26,
            27,
            28,
            29,
            30,
            31,
            32,
            33,
            34,
            35,
            36,
            37,
            38,
            39,
            40
           ],
           "y": [
            10,
            9,
            11,
            4,
            1,
            8,
            11,
            6,
            10,
            4,
            3,
            7,
            7,
            9,
            3,
            9,
            7,
            3,
            5,
            2,
            5,
            9,
            8,
            7,
            4,
            11,
            10,
            10,
            5,
            10,
            3,
            10,
            10,
            9,
            9,
            7,
            9,
            11,
            4,
            3
           ]
          }
         ],
         "name": "frame43",
         "traces": [
          0,
          1
         ]
        },
        {
         "data": [
          {
           "type": "scatter",
           "x": [
            1,
            2,
            3,
            4,
            5,
            6,
            7,
            8,
            9,
            10,
            11,
            12,
            13,
            14,
            15,
            16,
            17,
            18,
            19,
            20,
            21,
            22,
            23,
            24,
            25,
            26,
            27,
            28,
            29,
            30,
            31,
            32,
            33,
            34,
            35,
            36,
            37,
            38,
            39,
            40,
            41,
            42,
            43,
            44,
            45
           ],
           "y": [
            8,
            6,
            4,
            3,
            9,
            4,
            2,
            5,
            9,
            7,
            9,
            8,
            8,
            9,
            5,
            6,
            1,
            6,
            4,
            5,
            10,
            11,
            5,
            10,
            11,
            3,
            11,
            5,
            1,
            2,
            1,
            5,
            3,
            2,
            3,
            10,
            9,
            3,
            9,
            9,
            4,
            6,
            3,
            10,
            5
           ]
          },
          {
           "type": "scatter",
           "x": [
            1,
            2,
            3,
            4,
            5,
            6,
            7,
            8,
            9,
            10,
            11,
            12,
            13,
            14,
            15,
            16,
            17,
            18,
            19,
            20,
            21,
            22,
            23,
            24,
            25,
            26,
            27,
            28,
            29,
            30,
            31,
            32,
            33,
            34,
            35,
            36,
            37,
            38,
            39,
            40
           ],
           "y": [
            10,
            9,
            11,
            4,
            1,
            8,
            11,
            6,
            10,
            4,
            3,
            7,
            7,
            9,
            3,
            9,
            7,
            3,
            5,
            2,
            5,
            9,
            8,
            7,
            4,
            11,
            10,
            10,
            5,
            10,
            3,
            10,
            10,
            9,
            9,
            7,
            9,
            11,
            4,
            3
           ]
          }
         ],
         "name": "frame44",
         "traces": [
          0,
          1
         ]
        },
        {
         "data": [
          {
           "type": "scatter",
           "x": [
            1,
            2,
            3,
            4,
            5,
            6,
            7,
            8,
            9,
            10,
            11,
            12,
            13,
            14,
            15,
            16,
            17,
            18,
            19,
            20,
            21,
            22,
            23,
            24,
            25,
            26,
            27,
            28,
            29,
            30,
            31,
            32,
            33,
            34,
            35,
            36,
            37,
            38,
            39,
            40,
            41,
            42,
            43,
            44,
            45,
            46
           ],
           "y": [
            8,
            6,
            4,
            3,
            9,
            4,
            2,
            5,
            9,
            7,
            9,
            8,
            8,
            9,
            5,
            6,
            1,
            6,
            4,
            5,
            10,
            11,
            5,
            10,
            11,
            3,
            11,
            5,
            1,
            2,
            1,
            5,
            3,
            2,
            3,
            10,
            9,
            3,
            9,
            9,
            4,
            6,
            3,
            10,
            5,
            5
           ]
          },
          {
           "type": "scatter",
           "x": [
            1,
            2,
            3,
            4,
            5,
            6,
            7,
            8,
            9,
            10,
            11,
            12,
            13,
            14,
            15,
            16,
            17,
            18,
            19,
            20,
            21,
            22,
            23,
            24,
            25,
            26,
            27,
            28,
            29,
            30,
            31,
            32,
            33,
            34,
            35,
            36,
            37,
            38,
            39,
            40
           ],
           "y": [
            10,
            9,
            11,
            4,
            1,
            8,
            11,
            6,
            10,
            4,
            3,
            7,
            7,
            9,
            3,
            9,
            7,
            3,
            5,
            2,
            5,
            9,
            8,
            7,
            4,
            11,
            10,
            10,
            5,
            10,
            3,
            10,
            10,
            9,
            9,
            7,
            9,
            11,
            4,
            3
           ]
          }
         ],
         "name": "frame45",
         "traces": [
          0,
          1
         ]
        },
        {
         "data": [
          {
           "type": "scatter",
           "x": [
            1,
            2,
            3,
            4,
            5,
            6,
            7,
            8,
            9,
            10,
            11,
            12,
            13,
            14,
            15,
            16,
            17,
            18,
            19,
            20,
            21,
            22,
            23,
            24,
            25,
            26,
            27,
            28,
            29,
            30,
            31,
            32,
            33,
            34,
            35,
            36,
            37,
            38,
            39,
            40,
            41,
            42,
            43,
            44,
            45,
            46,
            47
           ],
           "y": [
            8,
            6,
            4,
            3,
            9,
            4,
            2,
            5,
            9,
            7,
            9,
            8,
            8,
            9,
            5,
            6,
            1,
            6,
            4,
            5,
            10,
            11,
            5,
            10,
            11,
            3,
            11,
            5,
            1,
            2,
            1,
            5,
            3,
            2,
            3,
            10,
            9,
            3,
            9,
            9,
            4,
            6,
            3,
            10,
            5,
            5,
            2
           ]
          },
          {
           "type": "scatter",
           "x": [
            1,
            2,
            3,
            4,
            5,
            6,
            7,
            8,
            9,
            10,
            11,
            12,
            13,
            14,
            15,
            16,
            17,
            18,
            19,
            20,
            21,
            22,
            23,
            24,
            25,
            26,
            27,
            28,
            29,
            30,
            31,
            32,
            33,
            34,
            35,
            36,
            37,
            38,
            39,
            40
           ],
           "y": [
            10,
            9,
            11,
            4,
            1,
            8,
            11,
            6,
            10,
            4,
            3,
            7,
            7,
            9,
            3,
            9,
            7,
            3,
            5,
            2,
            5,
            9,
            8,
            7,
            4,
            11,
            10,
            10,
            5,
            10,
            3,
            10,
            10,
            9,
            9,
            7,
            9,
            11,
            4,
            3
           ]
          }
         ],
         "name": "frame46",
         "traces": [
          0,
          1
         ]
        },
        {
         "data": [
          {
           "type": "scatter",
           "x": [
            1,
            2,
            3,
            4,
            5,
            6,
            7,
            8,
            9,
            10,
            11,
            12,
            13,
            14,
            15,
            16,
            17,
            18,
            19,
            20,
            21,
            22,
            23,
            24,
            25,
            26,
            27,
            28,
            29,
            30,
            31,
            32,
            33,
            34,
            35,
            36,
            37,
            38,
            39,
            40,
            41,
            42,
            43,
            44,
            45,
            46,
            47,
            48
           ],
           "y": [
            8,
            6,
            4,
            3,
            9,
            4,
            2,
            5,
            9,
            7,
            9,
            8,
            8,
            9,
            5,
            6,
            1,
            6,
            4,
            5,
            10,
            11,
            5,
            10,
            11,
            3,
            11,
            5,
            1,
            2,
            1,
            5,
            3,
            2,
            3,
            10,
            9,
            3,
            9,
            9,
            4,
            6,
            3,
            10,
            5,
            5,
            2,
            6
           ]
          },
          {
           "type": "scatter",
           "x": [
            1,
            2,
            3,
            4,
            5,
            6,
            7,
            8,
            9,
            10,
            11,
            12,
            13,
            14,
            15,
            16,
            17,
            18,
            19,
            20,
            21,
            22,
            23,
            24,
            25,
            26,
            27,
            28,
            29,
            30,
            31,
            32,
            33,
            34,
            35,
            36,
            37,
            38,
            39,
            40
           ],
           "y": [
            10,
            9,
            11,
            4,
            1,
            8,
            11,
            6,
            10,
            4,
            3,
            7,
            7,
            9,
            3,
            9,
            7,
            3,
            5,
            2,
            5,
            9,
            8,
            7,
            4,
            11,
            10,
            10,
            5,
            10,
            3,
            10,
            10,
            9,
            9,
            7,
            9,
            11,
            4,
            3
           ]
          }
         ],
         "name": "frame47",
         "traces": [
          0,
          1
         ]
        },
        {
         "data": [
          {
           "type": "scatter",
           "x": [
            1,
            2,
            3,
            4,
            5,
            6,
            7,
            8,
            9,
            10,
            11,
            12,
            13,
            14,
            15,
            16,
            17,
            18,
            19,
            20,
            21,
            22,
            23,
            24,
            25,
            26,
            27,
            28,
            29,
            30,
            31,
            32,
            33,
            34,
            35,
            36,
            37,
            38,
            39,
            40,
            41,
            42,
            43,
            44,
            45,
            46,
            47,
            48,
            49
           ],
           "y": [
            8,
            6,
            4,
            3,
            9,
            4,
            2,
            5,
            9,
            7,
            9,
            8,
            8,
            9,
            5,
            6,
            1,
            6,
            4,
            5,
            10,
            11,
            5,
            10,
            11,
            3,
            11,
            5,
            1,
            2,
            1,
            5,
            3,
            2,
            3,
            10,
            9,
            3,
            9,
            9,
            4,
            6,
            3,
            10,
            5,
            5,
            2,
            6,
            5
           ]
          },
          {
           "type": "scatter",
           "x": [
            1,
            2,
            3,
            4,
            5,
            6,
            7,
            8,
            9,
            10,
            11,
            12,
            13,
            14,
            15,
            16,
            17,
            18,
            19,
            20,
            21,
            22,
            23,
            24,
            25,
            26,
            27,
            28,
            29,
            30,
            31,
            32,
            33,
            34,
            35,
            36,
            37,
            38,
            39,
            40
           ],
           "y": [
            10,
            9,
            11,
            4,
            1,
            8,
            11,
            6,
            10,
            4,
            3,
            7,
            7,
            9,
            3,
            9,
            7,
            3,
            5,
            2,
            5,
            9,
            8,
            7,
            4,
            11,
            10,
            10,
            5,
            10,
            3,
            10,
            10,
            9,
            9,
            7,
            9,
            11,
            4,
            3
           ]
          }
         ],
         "name": "frame48",
         "traces": [
          0,
          1
         ]
        }
       ],
       "layout": {
        "annotations": [
         {
          "font": {
           "size": 16
          },
          "showarrow": false,
          "text": "Subplot (1,1)",
          "x": 0.5,
          "xanchor": "center",
          "xref": "paper",
          "y": 1,
          "yanchor": "bottom",
          "yref": "paper"
         },
         {
          "font": {
           "size": 16
          },
          "showarrow": false,
          "text": "Subplot(2,1)",
          "x": 0.5,
          "xanchor": "center",
          "xref": "paper",
          "y": 0.375,
          "yanchor": "bottom",
          "yref": "paper"
         }
        ],
        "sliders": [
         {
          "currentvalue": {
           "font": {
            "size": 16
           },
           "prefix": "Frame: ",
           "visible": true,
           "xanchor": "right"
          },
          "len": 0.9,
          "pad": {
           "b": 10,
           "t": 50
          },
          "steps": [
           {
            "args": [
             [
              "frame0"
             ],
             {
              "frame": {
               "duration": 100,
               "redraw": true
              },
              "transition": {
               "duration": 0
              }
             }
            ],
            "label": "0",
            "method": "animate"
           },
           {
            "args": [
             [
              "frame1"
             ],
             {
              "frame": {
               "duration": 100,
               "redraw": true
              },
              "transition": {
               "duration": 0
              }
             }
            ],
            "label": "1",
            "method": "animate"
           },
           {
            "args": [
             [
              "frame2"
             ],
             {
              "frame": {
               "duration": 100,
               "redraw": true
              },
              "transition": {
               "duration": 0
              }
             }
            ],
            "label": "2",
            "method": "animate"
           },
           {
            "args": [
             [
              "frame3"
             ],
             {
              "frame": {
               "duration": 100,
               "redraw": true
              },
              "transition": {
               "duration": 0
              }
             }
            ],
            "label": "3",
            "method": "animate"
           },
           {
            "args": [
             [
              "frame4"
             ],
             {
              "frame": {
               "duration": 100,
               "redraw": true
              },
              "transition": {
               "duration": 0
              }
             }
            ],
            "label": "4",
            "method": "animate"
           },
           {
            "args": [
             [
              "frame5"
             ],
             {
              "frame": {
               "duration": 100,
               "redraw": true
              },
              "transition": {
               "duration": 0
              }
             }
            ],
            "label": "5",
            "method": "animate"
           },
           {
            "args": [
             [
              "frame6"
             ],
             {
              "frame": {
               "duration": 100,
               "redraw": true
              },
              "transition": {
               "duration": 0
              }
             }
            ],
            "label": "6",
            "method": "animate"
           },
           {
            "args": [
             [
              "frame7"
             ],
             {
              "frame": {
               "duration": 100,
               "redraw": true
              },
              "transition": {
               "duration": 0
              }
             }
            ],
            "label": "7",
            "method": "animate"
           },
           {
            "args": [
             [
              "frame8"
             ],
             {
              "frame": {
               "duration": 100,
               "redraw": true
              },
              "transition": {
               "duration": 0
              }
             }
            ],
            "label": "8",
            "method": "animate"
           },
           {
            "args": [
             [
              "frame9"
             ],
             {
              "frame": {
               "duration": 100,
               "redraw": true
              },
              "transition": {
               "duration": 0
              }
             }
            ],
            "label": "9",
            "method": "animate"
           },
           {
            "args": [
             [
              "frame10"
             ],
             {
              "frame": {
               "duration": 100,
               "redraw": true
              },
              "transition": {
               "duration": 0
              }
             }
            ],
            "label": "10",
            "method": "animate"
           },
           {
            "args": [
             [
              "frame11"
             ],
             {
              "frame": {
               "duration": 100,
               "redraw": true
              },
              "transition": {
               "duration": 0
              }
             }
            ],
            "label": "11",
            "method": "animate"
           },
           {
            "args": [
             [
              "frame12"
             ],
             {
              "frame": {
               "duration": 100,
               "redraw": true
              },
              "transition": {
               "duration": 0
              }
             }
            ],
            "label": "12",
            "method": "animate"
           },
           {
            "args": [
             [
              "frame13"
             ],
             {
              "frame": {
               "duration": 100,
               "redraw": true
              },
              "transition": {
               "duration": 0
              }
             }
            ],
            "label": "13",
            "method": "animate"
           },
           {
            "args": [
             [
              "frame14"
             ],
             {
              "frame": {
               "duration": 100,
               "redraw": true
              },
              "transition": {
               "duration": 0
              }
             }
            ],
            "label": "14",
            "method": "animate"
           },
           {
            "args": [
             [
              "frame15"
             ],
             {
              "frame": {
               "duration": 100,
               "redraw": true
              },
              "transition": {
               "duration": 0
              }
             }
            ],
            "label": "15",
            "method": "animate"
           },
           {
            "args": [
             [
              "frame16"
             ],
             {
              "frame": {
               "duration": 100,
               "redraw": true
              },
              "transition": {
               "duration": 0
              }
             }
            ],
            "label": "16",
            "method": "animate"
           },
           {
            "args": [
             [
              "frame17"
             ],
             {
              "frame": {
               "duration": 100,
               "redraw": true
              },
              "transition": {
               "duration": 0
              }
             }
            ],
            "label": "17",
            "method": "animate"
           },
           {
            "args": [
             [
              "frame18"
             ],
             {
              "frame": {
               "duration": 100,
               "redraw": true
              },
              "transition": {
               "duration": 0
              }
             }
            ],
            "label": "18",
            "method": "animate"
           },
           {
            "args": [
             [
              "frame19"
             ],
             {
              "frame": {
               "duration": 100,
               "redraw": true
              },
              "transition": {
               "duration": 0
              }
             }
            ],
            "label": "19",
            "method": "animate"
           },
           {
            "args": [
             [
              "frame20"
             ],
             {
              "frame": {
               "duration": 100,
               "redraw": true
              },
              "transition": {
               "duration": 0
              }
             }
            ],
            "label": "20",
            "method": "animate"
           },
           {
            "args": [
             [
              "frame21"
             ],
             {
              "frame": {
               "duration": 100,
               "redraw": true
              },
              "transition": {
               "duration": 0
              }
             }
            ],
            "label": "21",
            "method": "animate"
           },
           {
            "args": [
             [
              "frame22"
             ],
             {
              "frame": {
               "duration": 100,
               "redraw": true
              },
              "transition": {
               "duration": 0
              }
             }
            ],
            "label": "22",
            "method": "animate"
           },
           {
            "args": [
             [
              "frame23"
             ],
             {
              "frame": {
               "duration": 100,
               "redraw": true
              },
              "transition": {
               "duration": 0
              }
             }
            ],
            "label": "23",
            "method": "animate"
           },
           {
            "args": [
             [
              "frame24"
             ],
             {
              "frame": {
               "duration": 100,
               "redraw": true
              },
              "transition": {
               "duration": 0
              }
             }
            ],
            "label": "24",
            "method": "animate"
           },
           {
            "args": [
             [
              "frame25"
             ],
             {
              "frame": {
               "duration": 100,
               "redraw": true
              },
              "transition": {
               "duration": 0
              }
             }
            ],
            "label": "25",
            "method": "animate"
           },
           {
            "args": [
             [
              "frame26"
             ],
             {
              "frame": {
               "duration": 100,
               "redraw": true
              },
              "transition": {
               "duration": 0
              }
             }
            ],
            "label": "26",
            "method": "animate"
           },
           {
            "args": [
             [
              "frame27"
             ],
             {
              "frame": {
               "duration": 100,
               "redraw": true
              },
              "transition": {
               "duration": 0
              }
             }
            ],
            "label": "27",
            "method": "animate"
           },
           {
            "args": [
             [
              "frame28"
             ],
             {
              "frame": {
               "duration": 100,
               "redraw": true
              },
              "transition": {
               "duration": 0
              }
             }
            ],
            "label": "28",
            "method": "animate"
           },
           {
            "args": [
             [
              "frame29"
             ],
             {
              "frame": {
               "duration": 100,
               "redraw": true
              },
              "transition": {
               "duration": 0
              }
             }
            ],
            "label": "29",
            "method": "animate"
           },
           {
            "args": [
             [
              "frame30"
             ],
             {
              "frame": {
               "duration": 100,
               "redraw": true
              },
              "transition": {
               "duration": 0
              }
             }
            ],
            "label": "30",
            "method": "animate"
           },
           {
            "args": [
             [
              "frame31"
             ],
             {
              "frame": {
               "duration": 100,
               "redraw": true
              },
              "transition": {
               "duration": 0
              }
             }
            ],
            "label": "31",
            "method": "animate"
           },
           {
            "args": [
             [
              "frame32"
             ],
             {
              "frame": {
               "duration": 100,
               "redraw": true
              },
              "transition": {
               "duration": 0
              }
             }
            ],
            "label": "32",
            "method": "animate"
           },
           {
            "args": [
             [
              "frame33"
             ],
             {
              "frame": {
               "duration": 100,
               "redraw": true
              },
              "transition": {
               "duration": 0
              }
             }
            ],
            "label": "33",
            "method": "animate"
           },
           {
            "args": [
             [
              "frame34"
             ],
             {
              "frame": {
               "duration": 100,
               "redraw": true
              },
              "transition": {
               "duration": 0
              }
             }
            ],
            "label": "34",
            "method": "animate"
           },
           {
            "args": [
             [
              "frame35"
             ],
             {
              "frame": {
               "duration": 100,
               "redraw": true
              },
              "transition": {
               "duration": 0
              }
             }
            ],
            "label": "35",
            "method": "animate"
           },
           {
            "args": [
             [
              "frame36"
             ],
             {
              "frame": {
               "duration": 100,
               "redraw": true
              },
              "transition": {
               "duration": 0
              }
             }
            ],
            "label": "36",
            "method": "animate"
           },
           {
            "args": [
             [
              "frame37"
             ],
             {
              "frame": {
               "duration": 100,
               "redraw": true
              },
              "transition": {
               "duration": 0
              }
             }
            ],
            "label": "37",
            "method": "animate"
           },
           {
            "args": [
             [
              "frame38"
             ],
             {
              "frame": {
               "duration": 100,
               "redraw": true
              },
              "transition": {
               "duration": 0
              }
             }
            ],
            "label": "38",
            "method": "animate"
           },
           {
            "args": [
             [
              "frame39"
             ],
             {
              "frame": {
               "duration": 100,
               "redraw": true
              },
              "transition": {
               "duration": 0
              }
             }
            ],
            "label": "39",
            "method": "animate"
           },
           {
            "args": [
             [
              "frame40"
             ],
             {
              "frame": {
               "duration": 100,
               "redraw": true
              },
              "transition": {
               "duration": 0
              }
             }
            ],
            "label": "40",
            "method": "animate"
           },
           {
            "args": [
             [
              "frame41"
             ],
             {
              "frame": {
               "duration": 100,
               "redraw": true
              },
              "transition": {
               "duration": 0
              }
             }
            ],
            "label": "41",
            "method": "animate"
           },
           {
            "args": [
             [
              "frame42"
             ],
             {
              "frame": {
               "duration": 100,
               "redraw": true
              },
              "transition": {
               "duration": 0
              }
             }
            ],
            "label": "42",
            "method": "animate"
           },
           {
            "args": [
             [
              "frame43"
             ],
             {
              "frame": {
               "duration": 100,
               "redraw": true
              },
              "transition": {
               "duration": 0
              }
             }
            ],
            "label": "43",
            "method": "animate"
           },
           {
            "args": [
             [
              "frame44"
             ],
             {
              "frame": {
               "duration": 100,
               "redraw": true
              },
              "transition": {
               "duration": 0
              }
             }
            ],
            "label": "44",
            "method": "animate"
           },
           {
            "args": [
             [
              "frame45"
             ],
             {
              "frame": {
               "duration": 100,
               "redraw": true
              },
              "transition": {
               "duration": 0
              }
             }
            ],
            "label": "45",
            "method": "animate"
           },
           {
            "args": [
             [
              "frame46"
             ],
             {
              "frame": {
               "duration": 100,
               "redraw": true
              },
              "transition": {
               "duration": 0
              }
             }
            ],
            "label": "46",
            "method": "animate"
           },
           {
            "args": [
             [
              "frame47"
             ],
             {
              "frame": {
               "duration": 100,
               "redraw": true
              },
              "transition": {
               "duration": 0
              }
             }
            ],
            "label": "47",
            "method": "animate"
           },
           {
            "args": [
             [
              "frame48"
             ],
             {
              "frame": {
               "duration": 100,
               "redraw": true
              },
              "transition": {
               "duration": 0
              }
             }
            ],
            "label": "48",
            "method": "animate"
           }
          ],
          "transition": {
           "duration": 0,
           "easing": "linear"
          },
          "x": 0.1,
          "xanchor": "left",
          "y": 0,
          "yanchor": "top"
         }
        ],
        "template": {
         "data": {
          "bar": [
           {
            "error_x": {
             "color": "#2a3f5f"
            },
            "error_y": {
             "color": "#2a3f5f"
            },
            "marker": {
             "line": {
              "color": "#E5ECF6",
              "width": 0.5
             }
            },
            "type": "bar"
           }
          ],
          "barpolar": [
           {
            "marker": {
             "line": {
              "color": "#E5ECF6",
              "width": 0.5
             }
            },
            "type": "barpolar"
           }
          ],
          "carpet": [
           {
            "aaxis": {
             "endlinecolor": "#2a3f5f",
             "gridcolor": "white",
             "linecolor": "white",
             "minorgridcolor": "white",
             "startlinecolor": "#2a3f5f"
            },
            "baxis": {
             "endlinecolor": "#2a3f5f",
             "gridcolor": "white",
             "linecolor": "white",
             "minorgridcolor": "white",
             "startlinecolor": "#2a3f5f"
            },
            "type": "carpet"
           }
          ],
          "choropleth": [
           {
            "colorbar": {
             "outlinewidth": 0,
             "ticks": ""
            },
            "type": "choropleth"
           }
          ],
          "contour": [
           {
            "colorbar": {
             "outlinewidth": 0,
             "ticks": ""
            },
            "colorscale": [
             [
              0,
              "#0d0887"
             ],
             [
              0.1111111111111111,
              "#46039f"
             ],
             [
              0.2222222222222222,
              "#7201a8"
             ],
             [
              0.3333333333333333,
              "#9c179e"
             ],
             [
              0.4444444444444444,
              "#bd3786"
             ],
             [
              0.5555555555555556,
              "#d8576b"
             ],
             [
              0.6666666666666666,
              "#ed7953"
             ],
             [
              0.7777777777777778,
              "#fb9f3a"
             ],
             [
              0.8888888888888888,
              "#fdca26"
             ],
             [
              1,
              "#f0f921"
             ]
            ],
            "type": "contour"
           }
          ],
          "contourcarpet": [
           {
            "colorbar": {
             "outlinewidth": 0,
             "ticks": ""
            },
            "type": "contourcarpet"
           }
          ],
          "heatmap": [
           {
            "colorbar": {
             "outlinewidth": 0,
             "ticks": ""
            },
            "colorscale": [
             [
              0,
              "#0d0887"
             ],
             [
              0.1111111111111111,
              "#46039f"
             ],
             [
              0.2222222222222222,
              "#7201a8"
             ],
             [
              0.3333333333333333,
              "#9c179e"
             ],
             [
              0.4444444444444444,
              "#bd3786"
             ],
             [
              0.5555555555555556,
              "#d8576b"
             ],
             [
              0.6666666666666666,
              "#ed7953"
             ],
             [
              0.7777777777777778,
              "#fb9f3a"
             ],
             [
              0.8888888888888888,
              "#fdca26"
             ],
             [
              1,
              "#f0f921"
             ]
            ],
            "type": "heatmap"
           }
          ],
          "heatmapgl": [
           {
            "colorbar": {
             "outlinewidth": 0,
             "ticks": ""
            },
            "colorscale": [
             [
              0,
              "#0d0887"
             ],
             [
              0.1111111111111111,
              "#46039f"
             ],
             [
              0.2222222222222222,
              "#7201a8"
             ],
             [
              0.3333333333333333,
              "#9c179e"
             ],
             [
              0.4444444444444444,
              "#bd3786"
             ],
             [
              0.5555555555555556,
              "#d8576b"
             ],
             [
              0.6666666666666666,
              "#ed7953"
             ],
             [
              0.7777777777777778,
              "#fb9f3a"
             ],
             [
              0.8888888888888888,
              "#fdca26"
             ],
             [
              1,
              "#f0f921"
             ]
            ],
            "type": "heatmapgl"
           }
          ],
          "histogram": [
           {
            "marker": {
             "colorbar": {
              "outlinewidth": 0,
              "ticks": ""
             }
            },
            "type": "histogram"
           }
          ],
          "histogram2d": [
           {
            "colorbar": {
             "outlinewidth": 0,
             "ticks": ""
            },
            "colorscale": [
             [
              0,
              "#0d0887"
             ],
             [
              0.1111111111111111,
              "#46039f"
             ],
             [
              0.2222222222222222,
              "#7201a8"
             ],
             [
              0.3333333333333333,
              "#9c179e"
             ],
             [
              0.4444444444444444,
              "#bd3786"
             ],
             [
              0.5555555555555556,
              "#d8576b"
             ],
             [
              0.6666666666666666,
              "#ed7953"
             ],
             [
              0.7777777777777778,
              "#fb9f3a"
             ],
             [
              0.8888888888888888,
              "#fdca26"
             ],
             [
              1,
              "#f0f921"
             ]
            ],
            "type": "histogram2d"
           }
          ],
          "histogram2dcontour": [
           {
            "colorbar": {
             "outlinewidth": 0,
             "ticks": ""
            },
            "colorscale": [
             [
              0,
              "#0d0887"
             ],
             [
              0.1111111111111111,
              "#46039f"
             ],
             [
              0.2222222222222222,
              "#7201a8"
             ],
             [
              0.3333333333333333,
              "#9c179e"
             ],
             [
              0.4444444444444444,
              "#bd3786"
             ],
             [
              0.5555555555555556,
              "#d8576b"
             ],
             [
              0.6666666666666666,
              "#ed7953"
             ],
             [
              0.7777777777777778,
              "#fb9f3a"
             ],
             [
              0.8888888888888888,
              "#fdca26"
             ],
             [
              1,
              "#f0f921"
             ]
            ],
            "type": "histogram2dcontour"
           }
          ],
          "mesh3d": [
           {
            "colorbar": {
             "outlinewidth": 0,
             "ticks": ""
            },
            "type": "mesh3d"
           }
          ],
          "parcoords": [
           {
            "line": {
             "colorbar": {
              "outlinewidth": 0,
              "ticks": ""
             }
            },
            "type": "parcoords"
           }
          ],
          "pie": [
           {
            "automargin": true,
            "type": "pie"
           }
          ],
          "scatter": [
           {
            "marker": {
             "colorbar": {
              "outlinewidth": 0,
              "ticks": ""
             }
            },
            "type": "scatter"
           }
          ],
          "scatter3d": [
           {
            "line": {
             "colorbar": {
              "outlinewidth": 0,
              "ticks": ""
             }
            },
            "marker": {
             "colorbar": {
              "outlinewidth": 0,
              "ticks": ""
             }
            },
            "type": "scatter3d"
           }
          ],
          "scattercarpet": [
           {
            "marker": {
             "colorbar": {
              "outlinewidth": 0,
              "ticks": ""
             }
            },
            "type": "scattercarpet"
           }
          ],
          "scattergeo": [
           {
            "marker": {
             "colorbar": {
              "outlinewidth": 0,
              "ticks": ""
             }
            },
            "type": "scattergeo"
           }
          ],
          "scattergl": [
           {
            "marker": {
             "colorbar": {
              "outlinewidth": 0,
              "ticks": ""
             }
            },
            "type": "scattergl"
           }
          ],
          "scattermapbox": [
           {
            "marker": {
             "colorbar": {
              "outlinewidth": 0,
              "ticks": ""
             }
            },
            "type": "scattermapbox"
           }
          ],
          "scatterpolar": [
           {
            "marker": {
             "colorbar": {
              "outlinewidth": 0,
              "ticks": ""
             }
            },
            "type": "scatterpolar"
           }
          ],
          "scatterpolargl": [
           {
            "marker": {
             "colorbar": {
              "outlinewidth": 0,
              "ticks": ""
             }
            },
            "type": "scatterpolargl"
           }
          ],
          "scatterternary": [
           {
            "marker": {
             "colorbar": {
              "outlinewidth": 0,
              "ticks": ""
             }
            },
            "type": "scatterternary"
           }
          ],
          "surface": [
           {
            "colorbar": {
             "outlinewidth": 0,
             "ticks": ""
            },
            "colorscale": [
             [
              0,
              "#0d0887"
             ],
             [
              0.1111111111111111,
              "#46039f"
             ],
             [
              0.2222222222222222,
              "#7201a8"
             ],
             [
              0.3333333333333333,
              "#9c179e"
             ],
             [
              0.4444444444444444,
              "#bd3786"
             ],
             [
              0.5555555555555556,
              "#d8576b"
             ],
             [
              0.6666666666666666,
              "#ed7953"
             ],
             [
              0.7777777777777778,
              "#fb9f3a"
             ],
             [
              0.8888888888888888,
              "#fdca26"
             ],
             [
              1,
              "#f0f921"
             ]
            ],
            "type": "surface"
           }
          ],
          "table": [
           {
            "cells": {
             "fill": {
              "color": "#EBF0F8"
             },
             "line": {
              "color": "white"
             }
            },
            "header": {
             "fill": {
              "color": "#C8D4E3"
             },
             "line": {
              "color": "white"
             }
            },
            "type": "table"
           }
          ]
         },
         "layout": {
          "annotationdefaults": {
           "arrowcolor": "#2a3f5f",
           "arrowhead": 0,
           "arrowwidth": 1
          },
          "coloraxis": {
           "colorbar": {
            "outlinewidth": 0,
            "ticks": ""
           }
          },
          "colorscale": {
           "diverging": [
            [
             0,
             "#8e0152"
            ],
            [
             0.1,
             "#c51b7d"
            ],
            [
             0.2,
             "#de77ae"
            ],
            [
             0.3,
             "#f1b6da"
            ],
            [
             0.4,
             "#fde0ef"
            ],
            [
             0.5,
             "#f7f7f7"
            ],
            [
             0.6,
             "#e6f5d0"
            ],
            [
             0.7,
             "#b8e186"
            ],
            [
             0.8,
             "#7fbc41"
            ],
            [
             0.9,
             "#4d9221"
            ],
            [
             1,
             "#276419"
            ]
           ],
           "sequential": [
            [
             0,
             "#0d0887"
            ],
            [
             0.1111111111111111,
             "#46039f"
            ],
            [
             0.2222222222222222,
             "#7201a8"
            ],
            [
             0.3333333333333333,
             "#9c179e"
            ],
            [
             0.4444444444444444,
             "#bd3786"
            ],
            [
             0.5555555555555556,
             "#d8576b"
            ],
            [
             0.6666666666666666,
             "#ed7953"
            ],
            [
             0.7777777777777778,
             "#fb9f3a"
            ],
            [
             0.8888888888888888,
             "#fdca26"
            ],
            [
             1,
             "#f0f921"
            ]
           ],
           "sequentialminus": [
            [
             0,
             "#0d0887"
            ],
            [
             0.1111111111111111,
             "#46039f"
            ],
            [
             0.2222222222222222,
             "#7201a8"
            ],
            [
             0.3333333333333333,
             "#9c179e"
            ],
            [
             0.4444444444444444,
             "#bd3786"
            ],
            [
             0.5555555555555556,
             "#d8576b"
            ],
            [
             0.6666666666666666,
             "#ed7953"
            ],
            [
             0.7777777777777778,
             "#fb9f3a"
            ],
            [
             0.8888888888888888,
             "#fdca26"
            ],
            [
             1,
             "#f0f921"
            ]
           ]
          },
          "colorway": [
           "#636efa",
           "#EF553B",
           "#00cc96",
           "#ab63fa",
           "#FFA15A",
           "#19d3f3",
           "#FF6692",
           "#B6E880",
           "#FF97FF",
           "#FECB52"
          ],
          "font": {
           "color": "#2a3f5f"
          },
          "geo": {
           "bgcolor": "white",
           "lakecolor": "white",
           "landcolor": "#E5ECF6",
           "showlakes": true,
           "showland": true,
           "subunitcolor": "white"
          },
          "hoverlabel": {
           "align": "left"
          },
          "hovermode": "closest",
          "mapbox": {
           "style": "light"
          },
          "paper_bgcolor": "white",
          "plot_bgcolor": "#E5ECF6",
          "polar": {
           "angularaxis": {
            "gridcolor": "white",
            "linecolor": "white",
            "ticks": ""
           },
           "bgcolor": "#E5ECF6",
           "radialaxis": {
            "gridcolor": "white",
            "linecolor": "white",
            "ticks": ""
           }
          },
          "scene": {
           "xaxis": {
            "backgroundcolor": "#E5ECF6",
            "gridcolor": "white",
            "gridwidth": 2,
            "linecolor": "white",
            "showbackground": true,
            "ticks": "",
            "zerolinecolor": "white"
           },
           "yaxis": {
            "backgroundcolor": "#E5ECF6",
            "gridcolor": "white",
            "gridwidth": 2,
            "linecolor": "white",
            "showbackground": true,
            "ticks": "",
            "zerolinecolor": "white"
           },
           "zaxis": {
            "backgroundcolor": "#E5ECF6",
            "gridcolor": "white",
            "gridwidth": 2,
            "linecolor": "white",
            "showbackground": true,
            "ticks": "",
            "zerolinecolor": "white"
           }
          },
          "shapedefaults": {
           "line": {
            "color": "#2a3f5f"
           }
          },
          "ternary": {
           "aaxis": {
            "gridcolor": "white",
            "linecolor": "white",
            "ticks": ""
           },
           "baxis": {
            "gridcolor": "white",
            "linecolor": "white",
            "ticks": ""
           },
           "bgcolor": "#E5ECF6",
           "caxis": {
            "gridcolor": "white",
            "linecolor": "white",
            "ticks": ""
           }
          },
          "title": {
           "x": 0.05
          },
          "xaxis": {
           "automargin": true,
           "gridcolor": "white",
           "linecolor": "white",
           "ticks": "",
           "title": {
            "standoff": 15
           },
           "zerolinecolor": "white",
           "zerolinewidth": 2
          },
          "yaxis": {
           "automargin": true,
           "gridcolor": "white",
           "linecolor": "white",
           "ticks": "",
           "title": {
            "standoff": 15
           },
           "zerolinecolor": "white",
           "zerolinewidth": 2
          }
         }
        },
        "updatemenus": [
         {
          "buttons": [
           {
            "args": [
             [
              "frame0",
              "frame1",
              "frame2",
              "frame3",
              "frame4",
              "frame5",
              "frame6",
              "frame7",
              "frame8",
              "frame9",
              "frame10",
              "frame11",
              "frame12",
              "frame13",
              "frame14",
              "frame15",
              "frame16",
              "frame17",
              "frame18",
              "frame19",
              "frame20",
              "frame21",
              "frame22",
              "frame23",
              "frame24",
              "frame25",
              "frame26",
              "frame27",
              "frame28",
              "frame29",
              "frame30",
              "frame31",
              "frame32",
              "frame33",
              "frame34",
              "frame35",
              "frame36",
              "frame37",
              "frame38",
              "frame39",
              "frame40",
              "frame41",
              "frame42",
              "frame43",
              "frame44",
              "frame45",
              "frame46",
              "frame47",
              "frame48"
             ],
             {
              "frame": {
               "duration": 100,
               "redraw": false
              },
              "fromcurrent": true,
              "mode": "immediate",
              "redraw": true,
              "transition": {
               "duration": 0
              }
             }
            ],
            "label": "Play",
            "method": "animate"
           },
           {
            "args": [
             [
              null
             ],
             {
              "frame": {
               "duration": 0,
               "redraw": false
              },
              "mode": "immediate",
              "transition": {
               "duration": 0
              }
             }
            ],
            "label": "Pause",
            "method": "animate"
           }
          ],
          "direction": "left",
          "pad": {
           "r": 10,
           "t": 85
          },
          "showactive": true,
          "type": "buttons",
          "x": 0.1,
          "xanchor": "right",
          "y": 0,
          "yanchor": "top"
         }
        ],
        "xaxis": {
         "anchor": "y",
         "autorange": false,
         "domain": [
          0,
          1
         ],
         "range": [
          1,
          50
         ]
        },
        "xaxis2": {
         "anchor": "y2",
         "autorange": false,
         "domain": [
          0,
          1
         ],
         "range": [
          1,
          40
         ]
        },
        "yaxis": {
         "anchor": "x",
         "autorange": false,
         "domain": [
          0.625,
          1
         ],
         "range": [
          0.5,
          11.5
         ]
        },
        "yaxis2": {
         "anchor": "x2",
         "autorange": false,
         "domain": [
          0,
          0.375
         ],
         "range": [
          0.5,
          11.5
         ]
        }
       }
      },
      "text/html": [
       "<div>\n",
       "        \n",
       "        \n",
       "            <div id=\"de04d79d-48de-4143-8e48-ebd45679c3b4\" class=\"plotly-graph-div\" style=\"height:525px; width:100%;\"></div>\n",
       "            <script type=\"text/javascript\">\n",
       "                require([\"plotly\"], function(Plotly) {\n",
       "                    window.PLOTLYENV=window.PLOTLYENV || {};\n",
       "                    \n",
       "                if (document.getElementById(\"de04d79d-48de-4143-8e48-ebd45679c3b4\")) {\n",
       "                    Plotly.newPlot(\n",
       "                        'de04d79d-48de-4143-8e48-ebd45679c3b4',\n",
       "                        [{\"hoverinfo\": \"name\", \"legendgroup\": \"f1\", \"line\": {\"color\": \"rgb(255, 79, 38)\"}, \"mode\": \"markers+lines\", \"name\": \"f1\", \"showlegend\": true, \"type\": \"scatter\", \"x\": [1, 2], \"xaxis\": \"x\", \"y\": [8, 6], \"yaxis\": \"y\"}, {\"hoverinfo\": \"name\", \"legendgroup\": \"f2\", \"line\": {\"color\": \"rgb(79, 38, 255)\"}, \"mode\": \"markers+lines\", \"name\": \"f2\", \"showlegend\": true, \"type\": \"scatter\", \"x\": [1, 2], \"xaxis\": \"x2\", \"y\": [10, 9], \"yaxis\": \"y2\"}],\n",
       "                        {\"annotations\": [{\"font\": {\"size\": 16}, \"showarrow\": false, \"text\": \"Subplot (1,1)\", \"x\": 0.5, \"xanchor\": \"center\", \"xref\": \"paper\", \"y\": 1.0, \"yanchor\": \"bottom\", \"yref\": \"paper\"}, {\"font\": {\"size\": 16}, \"showarrow\": false, \"text\": \"Subplot(2,1)\", \"x\": 0.5, \"xanchor\": \"center\", \"xref\": \"paper\", \"y\": 0.375, \"yanchor\": \"bottom\", \"yref\": \"paper\"}], \"sliders\": [{\"currentvalue\": {\"font\": {\"size\": 16}, \"prefix\": \"Frame: \", \"visible\": true, \"xanchor\": \"right\"}, \"len\": 0.9, \"pad\": {\"b\": 10, \"t\": 50}, \"steps\": [{\"args\": [[\"frame0\"], {\"frame\": {\"duration\": 100, \"redraw\": true}, \"transition\": {\"duration\": 0}}], \"label\": \"0\", \"method\": \"animate\"}, {\"args\": [[\"frame1\"], {\"frame\": {\"duration\": 100, \"redraw\": true}, \"transition\": {\"duration\": 0}}], \"label\": \"1\", \"method\": \"animate\"}, {\"args\": [[\"frame2\"], {\"frame\": {\"duration\": 100, \"redraw\": true}, \"transition\": {\"duration\": 0}}], \"label\": \"2\", \"method\": \"animate\"}, {\"args\": [[\"frame3\"], {\"frame\": {\"duration\": 100, \"redraw\": true}, \"transition\": {\"duration\": 0}}], \"label\": \"3\", \"method\": \"animate\"}, {\"args\": [[\"frame4\"], {\"frame\": {\"duration\": 100, \"redraw\": true}, \"transition\": {\"duration\": 0}}], \"label\": \"4\", \"method\": \"animate\"}, {\"args\": [[\"frame5\"], {\"frame\": {\"duration\": 100, \"redraw\": true}, \"transition\": {\"duration\": 0}}], \"label\": \"5\", \"method\": \"animate\"}, {\"args\": [[\"frame6\"], {\"frame\": {\"duration\": 100, \"redraw\": true}, \"transition\": {\"duration\": 0}}], \"label\": \"6\", \"method\": \"animate\"}, {\"args\": [[\"frame7\"], {\"frame\": {\"duration\": 100, \"redraw\": true}, \"transition\": {\"duration\": 0}}], \"label\": \"7\", \"method\": \"animate\"}, {\"args\": [[\"frame8\"], {\"frame\": {\"duration\": 100, \"redraw\": true}, \"transition\": {\"duration\": 0}}], \"label\": \"8\", \"method\": \"animate\"}, {\"args\": [[\"frame9\"], {\"frame\": {\"duration\": 100, \"redraw\": true}, \"transition\": {\"duration\": 0}}], \"label\": \"9\", \"method\": \"animate\"}, {\"args\": [[\"frame10\"], {\"frame\": {\"duration\": 100, \"redraw\": true}, \"transition\": {\"duration\": 0}}], \"label\": \"10\", \"method\": \"animate\"}, {\"args\": [[\"frame11\"], {\"frame\": {\"duration\": 100, \"redraw\": true}, \"transition\": {\"duration\": 0}}], \"label\": \"11\", \"method\": \"animate\"}, {\"args\": [[\"frame12\"], {\"frame\": {\"duration\": 100, \"redraw\": true}, \"transition\": {\"duration\": 0}}], \"label\": \"12\", \"method\": \"animate\"}, {\"args\": [[\"frame13\"], {\"frame\": {\"duration\": 100, \"redraw\": true}, \"transition\": {\"duration\": 0}}], \"label\": \"13\", \"method\": \"animate\"}, {\"args\": [[\"frame14\"], {\"frame\": {\"duration\": 100, \"redraw\": true}, \"transition\": {\"duration\": 0}}], \"label\": \"14\", \"method\": \"animate\"}, {\"args\": [[\"frame15\"], {\"frame\": {\"duration\": 100, \"redraw\": true}, \"transition\": {\"duration\": 0}}], \"label\": \"15\", \"method\": \"animate\"}, {\"args\": [[\"frame16\"], {\"frame\": {\"duration\": 100, \"redraw\": true}, \"transition\": {\"duration\": 0}}], \"label\": \"16\", \"method\": \"animate\"}, {\"args\": [[\"frame17\"], {\"frame\": {\"duration\": 100, \"redraw\": true}, \"transition\": {\"duration\": 0}}], \"label\": \"17\", \"method\": \"animate\"}, {\"args\": [[\"frame18\"], {\"frame\": {\"duration\": 100, \"redraw\": true}, \"transition\": {\"duration\": 0}}], \"label\": \"18\", \"method\": \"animate\"}, {\"args\": [[\"frame19\"], {\"frame\": {\"duration\": 100, \"redraw\": true}, \"transition\": {\"duration\": 0}}], \"label\": \"19\", \"method\": \"animate\"}, {\"args\": [[\"frame20\"], {\"frame\": {\"duration\": 100, \"redraw\": true}, \"transition\": {\"duration\": 0}}], \"label\": \"20\", \"method\": \"animate\"}, {\"args\": [[\"frame21\"], {\"frame\": {\"duration\": 100, \"redraw\": true}, \"transition\": {\"duration\": 0}}], \"label\": \"21\", \"method\": \"animate\"}, {\"args\": [[\"frame22\"], {\"frame\": {\"duration\": 100, \"redraw\": true}, \"transition\": {\"duration\": 0}}], \"label\": \"22\", \"method\": \"animate\"}, {\"args\": [[\"frame23\"], {\"frame\": {\"duration\": 100, \"redraw\": true}, \"transition\": {\"duration\": 0}}], \"label\": \"23\", \"method\": \"animate\"}, {\"args\": [[\"frame24\"], {\"frame\": {\"duration\": 100, \"redraw\": true}, \"transition\": {\"duration\": 0}}], \"label\": \"24\", \"method\": \"animate\"}, {\"args\": [[\"frame25\"], {\"frame\": {\"duration\": 100, \"redraw\": true}, \"transition\": {\"duration\": 0}}], \"label\": \"25\", \"method\": \"animate\"}, {\"args\": [[\"frame26\"], {\"frame\": {\"duration\": 100, \"redraw\": true}, \"transition\": {\"duration\": 0}}], \"label\": \"26\", \"method\": \"animate\"}, {\"args\": [[\"frame27\"], {\"frame\": {\"duration\": 100, \"redraw\": true}, \"transition\": {\"duration\": 0}}], \"label\": \"27\", \"method\": \"animate\"}, {\"args\": [[\"frame28\"], {\"frame\": {\"duration\": 100, \"redraw\": true}, \"transition\": {\"duration\": 0}}], \"label\": \"28\", \"method\": \"animate\"}, {\"args\": [[\"frame29\"], {\"frame\": {\"duration\": 100, \"redraw\": true}, \"transition\": {\"duration\": 0}}], \"label\": \"29\", \"method\": \"animate\"}, {\"args\": [[\"frame30\"], {\"frame\": {\"duration\": 100, \"redraw\": true}, \"transition\": {\"duration\": 0}}], \"label\": \"30\", \"method\": \"animate\"}, {\"args\": [[\"frame31\"], {\"frame\": {\"duration\": 100, \"redraw\": true}, \"transition\": {\"duration\": 0}}], \"label\": \"31\", \"method\": \"animate\"}, {\"args\": [[\"frame32\"], {\"frame\": {\"duration\": 100, \"redraw\": true}, \"transition\": {\"duration\": 0}}], \"label\": \"32\", \"method\": \"animate\"}, {\"args\": [[\"frame33\"], {\"frame\": {\"duration\": 100, \"redraw\": true}, \"transition\": {\"duration\": 0}}], \"label\": \"33\", \"method\": \"animate\"}, {\"args\": [[\"frame34\"], {\"frame\": {\"duration\": 100, \"redraw\": true}, \"transition\": {\"duration\": 0}}], \"label\": \"34\", \"method\": \"animate\"}, {\"args\": [[\"frame35\"], {\"frame\": {\"duration\": 100, \"redraw\": true}, \"transition\": {\"duration\": 0}}], \"label\": \"35\", \"method\": \"animate\"}, {\"args\": [[\"frame36\"], {\"frame\": {\"duration\": 100, \"redraw\": true}, \"transition\": {\"duration\": 0}}], \"label\": \"36\", \"method\": \"animate\"}, {\"args\": [[\"frame37\"], {\"frame\": {\"duration\": 100, \"redraw\": true}, \"transition\": {\"duration\": 0}}], \"label\": \"37\", \"method\": \"animate\"}, {\"args\": [[\"frame38\"], {\"frame\": {\"duration\": 100, \"redraw\": true}, \"transition\": {\"duration\": 0}}], \"label\": \"38\", \"method\": \"animate\"}, {\"args\": [[\"frame39\"], {\"frame\": {\"duration\": 100, \"redraw\": true}, \"transition\": {\"duration\": 0}}], \"label\": \"39\", \"method\": \"animate\"}, {\"args\": [[\"frame40\"], {\"frame\": {\"duration\": 100, \"redraw\": true}, \"transition\": {\"duration\": 0}}], \"label\": \"40\", \"method\": \"animate\"}, {\"args\": [[\"frame41\"], {\"frame\": {\"duration\": 100, \"redraw\": true}, \"transition\": {\"duration\": 0}}], \"label\": \"41\", \"method\": \"animate\"}, {\"args\": [[\"frame42\"], {\"frame\": {\"duration\": 100, \"redraw\": true}, \"transition\": {\"duration\": 0}}], \"label\": \"42\", \"method\": \"animate\"}, {\"args\": [[\"frame43\"], {\"frame\": {\"duration\": 100, \"redraw\": true}, \"transition\": {\"duration\": 0}}], \"label\": \"43\", \"method\": \"animate\"}, {\"args\": [[\"frame44\"], {\"frame\": {\"duration\": 100, \"redraw\": true}, \"transition\": {\"duration\": 0}}], \"label\": \"44\", \"method\": \"animate\"}, {\"args\": [[\"frame45\"], {\"frame\": {\"duration\": 100, \"redraw\": true}, \"transition\": {\"duration\": 0}}], \"label\": \"45\", \"method\": \"animate\"}, {\"args\": [[\"frame46\"], {\"frame\": {\"duration\": 100, \"redraw\": true}, \"transition\": {\"duration\": 0}}], \"label\": \"46\", \"method\": \"animate\"}, {\"args\": [[\"frame47\"], {\"frame\": {\"duration\": 100, \"redraw\": true}, \"transition\": {\"duration\": 0}}], \"label\": \"47\", \"method\": \"animate\"}, {\"args\": [[\"frame48\"], {\"frame\": {\"duration\": 100, \"redraw\": true}, \"transition\": {\"duration\": 0}}], \"label\": \"48\", \"method\": \"animate\"}], \"transition\": {\"duration\": 0, \"easing\": \"linear\"}, \"x\": 0.1, \"xanchor\": \"left\", \"y\": 0, \"yanchor\": \"top\"}], \"template\": {\"data\": {\"bar\": [{\"error_x\": {\"color\": \"#2a3f5f\"}, \"error_y\": {\"color\": \"#2a3f5f\"}, \"marker\": {\"line\": {\"color\": \"#E5ECF6\", \"width\": 0.5}}, \"type\": \"bar\"}], \"barpolar\": [{\"marker\": {\"line\": {\"color\": \"#E5ECF6\", \"width\": 0.5}}, \"type\": \"barpolar\"}], \"carpet\": [{\"aaxis\": {\"endlinecolor\": \"#2a3f5f\", \"gridcolor\": \"white\", \"linecolor\": \"white\", \"minorgridcolor\": \"white\", \"startlinecolor\": \"#2a3f5f\"}, \"baxis\": {\"endlinecolor\": \"#2a3f5f\", \"gridcolor\": \"white\", \"linecolor\": \"white\", \"minorgridcolor\": \"white\", \"startlinecolor\": \"#2a3f5f\"}, \"type\": \"carpet\"}], \"choropleth\": [{\"colorbar\": {\"outlinewidth\": 0, \"ticks\": \"\"}, \"type\": \"choropleth\"}], \"contour\": [{\"colorbar\": {\"outlinewidth\": 0, \"ticks\": \"\"}, \"colorscale\": [[0.0, \"#0d0887\"], [0.1111111111111111, \"#46039f\"], [0.2222222222222222, \"#7201a8\"], [0.3333333333333333, \"#9c179e\"], [0.4444444444444444, \"#bd3786\"], [0.5555555555555556, \"#d8576b\"], [0.6666666666666666, \"#ed7953\"], [0.7777777777777778, \"#fb9f3a\"], [0.8888888888888888, \"#fdca26\"], [1.0, \"#f0f921\"]], \"type\": \"contour\"}], \"contourcarpet\": [{\"colorbar\": {\"outlinewidth\": 0, \"ticks\": \"\"}, \"type\": \"contourcarpet\"}], \"heatmap\": [{\"colorbar\": {\"outlinewidth\": 0, \"ticks\": \"\"}, \"colorscale\": [[0.0, \"#0d0887\"], [0.1111111111111111, \"#46039f\"], [0.2222222222222222, \"#7201a8\"], [0.3333333333333333, \"#9c179e\"], [0.4444444444444444, \"#bd3786\"], [0.5555555555555556, \"#d8576b\"], [0.6666666666666666, \"#ed7953\"], [0.7777777777777778, \"#fb9f3a\"], [0.8888888888888888, \"#fdca26\"], [1.0, \"#f0f921\"]], \"type\": \"heatmap\"}], \"heatmapgl\": [{\"colorbar\": {\"outlinewidth\": 0, \"ticks\": \"\"}, \"colorscale\": [[0.0, \"#0d0887\"], [0.1111111111111111, \"#46039f\"], [0.2222222222222222, \"#7201a8\"], [0.3333333333333333, \"#9c179e\"], [0.4444444444444444, \"#bd3786\"], [0.5555555555555556, \"#d8576b\"], [0.6666666666666666, \"#ed7953\"], [0.7777777777777778, \"#fb9f3a\"], [0.8888888888888888, \"#fdca26\"], [1.0, \"#f0f921\"]], \"type\": \"heatmapgl\"}], \"histogram\": [{\"marker\": {\"colorbar\": {\"outlinewidth\": 0, \"ticks\": \"\"}}, \"type\": \"histogram\"}], \"histogram2d\": [{\"colorbar\": {\"outlinewidth\": 0, \"ticks\": \"\"}, \"colorscale\": [[0.0, \"#0d0887\"], [0.1111111111111111, \"#46039f\"], [0.2222222222222222, \"#7201a8\"], [0.3333333333333333, \"#9c179e\"], [0.4444444444444444, \"#bd3786\"], [0.5555555555555556, \"#d8576b\"], [0.6666666666666666, \"#ed7953\"], [0.7777777777777778, \"#fb9f3a\"], [0.8888888888888888, \"#fdca26\"], [1.0, \"#f0f921\"]], \"type\": \"histogram2d\"}], \"histogram2dcontour\": [{\"colorbar\": {\"outlinewidth\": 0, \"ticks\": \"\"}, \"colorscale\": [[0.0, \"#0d0887\"], [0.1111111111111111, \"#46039f\"], [0.2222222222222222, \"#7201a8\"], [0.3333333333333333, \"#9c179e\"], [0.4444444444444444, \"#bd3786\"], [0.5555555555555556, \"#d8576b\"], [0.6666666666666666, \"#ed7953\"], [0.7777777777777778, \"#fb9f3a\"], [0.8888888888888888, \"#fdca26\"], [1.0, \"#f0f921\"]], \"type\": \"histogram2dcontour\"}], \"mesh3d\": [{\"colorbar\": {\"outlinewidth\": 0, \"ticks\": \"\"}, \"type\": \"mesh3d\"}], \"parcoords\": [{\"line\": {\"colorbar\": {\"outlinewidth\": 0, \"ticks\": \"\"}}, \"type\": \"parcoords\"}], \"pie\": [{\"automargin\": true, \"type\": \"pie\"}], \"scatter\": [{\"marker\": {\"colorbar\": {\"outlinewidth\": 0, \"ticks\": \"\"}}, \"type\": \"scatter\"}], \"scatter3d\": [{\"line\": {\"colorbar\": {\"outlinewidth\": 0, \"ticks\": \"\"}}, \"marker\": {\"colorbar\": {\"outlinewidth\": 0, \"ticks\": \"\"}}, \"type\": \"scatter3d\"}], \"scattercarpet\": [{\"marker\": {\"colorbar\": {\"outlinewidth\": 0, \"ticks\": \"\"}}, \"type\": \"scattercarpet\"}], \"scattergeo\": [{\"marker\": {\"colorbar\": {\"outlinewidth\": 0, \"ticks\": \"\"}}, \"type\": \"scattergeo\"}], \"scattergl\": [{\"marker\": {\"colorbar\": {\"outlinewidth\": 0, \"ticks\": \"\"}}, \"type\": \"scattergl\"}], \"scattermapbox\": [{\"marker\": {\"colorbar\": {\"outlinewidth\": 0, \"ticks\": \"\"}}, \"type\": \"scattermapbox\"}], \"scatterpolar\": [{\"marker\": {\"colorbar\": {\"outlinewidth\": 0, \"ticks\": \"\"}}, \"type\": \"scatterpolar\"}], \"scatterpolargl\": [{\"marker\": {\"colorbar\": {\"outlinewidth\": 0, \"ticks\": \"\"}}, \"type\": \"scatterpolargl\"}], \"scatterternary\": [{\"marker\": {\"colorbar\": {\"outlinewidth\": 0, \"ticks\": \"\"}}, \"type\": \"scatterternary\"}], \"surface\": [{\"colorbar\": {\"outlinewidth\": 0, \"ticks\": \"\"}, \"colorscale\": [[0.0, \"#0d0887\"], [0.1111111111111111, \"#46039f\"], [0.2222222222222222, \"#7201a8\"], [0.3333333333333333, \"#9c179e\"], [0.4444444444444444, \"#bd3786\"], [0.5555555555555556, \"#d8576b\"], [0.6666666666666666, \"#ed7953\"], [0.7777777777777778, \"#fb9f3a\"], [0.8888888888888888, \"#fdca26\"], [1.0, \"#f0f921\"]], \"type\": \"surface\"}], \"table\": [{\"cells\": {\"fill\": {\"color\": \"#EBF0F8\"}, \"line\": {\"color\": \"white\"}}, \"header\": {\"fill\": {\"color\": \"#C8D4E3\"}, \"line\": {\"color\": \"white\"}}, \"type\": \"table\"}]}, \"layout\": {\"annotationdefaults\": {\"arrowcolor\": \"#2a3f5f\", \"arrowhead\": 0, \"arrowwidth\": 1}, \"coloraxis\": {\"colorbar\": {\"outlinewidth\": 0, \"ticks\": \"\"}}, \"colorscale\": {\"diverging\": [[0, \"#8e0152\"], [0.1, \"#c51b7d\"], [0.2, \"#de77ae\"], [0.3, \"#f1b6da\"], [0.4, \"#fde0ef\"], [0.5, \"#f7f7f7\"], [0.6, \"#e6f5d0\"], [0.7, \"#b8e186\"], [0.8, \"#7fbc41\"], [0.9, \"#4d9221\"], [1, \"#276419\"]], \"sequential\": [[0.0, \"#0d0887\"], [0.1111111111111111, \"#46039f\"], [0.2222222222222222, \"#7201a8\"], [0.3333333333333333, \"#9c179e\"], [0.4444444444444444, \"#bd3786\"], [0.5555555555555556, \"#d8576b\"], [0.6666666666666666, \"#ed7953\"], [0.7777777777777778, \"#fb9f3a\"], [0.8888888888888888, \"#fdca26\"], [1.0, \"#f0f921\"]], \"sequentialminus\": [[0.0, \"#0d0887\"], [0.1111111111111111, \"#46039f\"], [0.2222222222222222, \"#7201a8\"], [0.3333333333333333, \"#9c179e\"], [0.4444444444444444, \"#bd3786\"], [0.5555555555555556, \"#d8576b\"], [0.6666666666666666, \"#ed7953\"], [0.7777777777777778, \"#fb9f3a\"], [0.8888888888888888, \"#fdca26\"], [1.0, \"#f0f921\"]]}, \"colorway\": [\"#636efa\", \"#EF553B\", \"#00cc96\", \"#ab63fa\", \"#FFA15A\", \"#19d3f3\", \"#FF6692\", \"#B6E880\", \"#FF97FF\", \"#FECB52\"], \"font\": {\"color\": \"#2a3f5f\"}, \"geo\": {\"bgcolor\": \"white\", \"lakecolor\": \"white\", \"landcolor\": \"#E5ECF6\", \"showlakes\": true, \"showland\": true, \"subunitcolor\": \"white\"}, \"hoverlabel\": {\"align\": \"left\"}, \"hovermode\": \"closest\", \"mapbox\": {\"style\": \"light\"}, \"paper_bgcolor\": \"white\", \"plot_bgcolor\": \"#E5ECF6\", \"polar\": {\"angularaxis\": {\"gridcolor\": \"white\", \"linecolor\": \"white\", \"ticks\": \"\"}, \"bgcolor\": \"#E5ECF6\", \"radialaxis\": {\"gridcolor\": \"white\", \"linecolor\": \"white\", \"ticks\": \"\"}}, \"scene\": {\"xaxis\": {\"backgroundcolor\": \"#E5ECF6\", \"gridcolor\": \"white\", \"gridwidth\": 2, \"linecolor\": \"white\", \"showbackground\": true, \"ticks\": \"\", \"zerolinecolor\": \"white\"}, \"yaxis\": {\"backgroundcolor\": \"#E5ECF6\", \"gridcolor\": \"white\", \"gridwidth\": 2, \"linecolor\": \"white\", \"showbackground\": true, \"ticks\": \"\", \"zerolinecolor\": \"white\"}, \"zaxis\": {\"backgroundcolor\": \"#E5ECF6\", \"gridcolor\": \"white\", \"gridwidth\": 2, \"linecolor\": \"white\", \"showbackground\": true, \"ticks\": \"\", \"zerolinecolor\": \"white\"}}, \"shapedefaults\": {\"line\": {\"color\": \"#2a3f5f\"}}, \"ternary\": {\"aaxis\": {\"gridcolor\": \"white\", \"linecolor\": \"white\", \"ticks\": \"\"}, \"baxis\": {\"gridcolor\": \"white\", \"linecolor\": \"white\", \"ticks\": \"\"}, \"bgcolor\": \"#E5ECF6\", \"caxis\": {\"gridcolor\": \"white\", \"linecolor\": \"white\", \"ticks\": \"\"}}, \"title\": {\"x\": 0.05}, \"xaxis\": {\"automargin\": true, \"gridcolor\": \"white\", \"linecolor\": \"white\", \"ticks\": \"\", \"title\": {\"standoff\": 15}, \"zerolinecolor\": \"white\", \"zerolinewidth\": 2}, \"yaxis\": {\"automargin\": true, \"gridcolor\": \"white\", \"linecolor\": \"white\", \"ticks\": \"\", \"title\": {\"standoff\": 15}, \"zerolinecolor\": \"white\", \"zerolinewidth\": 2}}}, \"updatemenus\": [{\"buttons\": [{\"args\": [[\"frame0\", \"frame1\", \"frame2\", \"frame3\", \"frame4\", \"frame5\", \"frame6\", \"frame7\", \"frame8\", \"frame9\", \"frame10\", \"frame11\", \"frame12\", \"frame13\", \"frame14\", \"frame15\", \"frame16\", \"frame17\", \"frame18\", \"frame19\", \"frame20\", \"frame21\", \"frame22\", \"frame23\", \"frame24\", \"frame25\", \"frame26\", \"frame27\", \"frame28\", \"frame29\", \"frame30\", \"frame31\", \"frame32\", \"frame33\", \"frame34\", \"frame35\", \"frame36\", \"frame37\", \"frame38\", \"frame39\", \"frame40\", \"frame41\", \"frame42\", \"frame43\", \"frame44\", \"frame45\", \"frame46\", \"frame47\", \"frame48\"], {\"frame\": {\"duration\": 100, \"redraw\": false}, \"fromcurrent\": true, \"mode\": \"immediate\", \"redraw\": true, \"transition\": {\"duration\": 0}}], \"label\": \"Play\", \"method\": \"animate\"}, {\"args\": [[null], {\"frame\": {\"duration\": 0, \"redraw\": false}, \"mode\": \"immediate\", \"transition\": {\"duration\": 0}}], \"label\": \"Pause\", \"method\": \"animate\"}], \"direction\": \"left\", \"pad\": {\"r\": 10, \"t\": 85}, \"showactive\": true, \"type\": \"buttons\", \"x\": 0.1, \"xanchor\": \"right\", \"y\": 0, \"yanchor\": \"top\"}], \"xaxis\": {\"anchor\": \"y\", \"autorange\": false, \"domain\": [0.0, 1.0], \"range\": [1, 50]}, \"xaxis2\": {\"anchor\": \"y2\", \"autorange\": false, \"domain\": [0.0, 1.0], \"range\": [1, 40]}, \"yaxis\": {\"anchor\": \"x\", \"autorange\": false, \"domain\": [0.625, 1.0], \"range\": [0.5, 11.5]}, \"yaxis2\": {\"anchor\": \"x2\", \"autorange\": false, \"domain\": [0.0, 0.375], \"range\": [0.5, 11.5]}},\n",
       "                        {\"responsive\": true}\n",
       "                    ).then(function(){\n",
       "                            Plotly.addFrames('de04d79d-48de-4143-8e48-ebd45679c3b4', [{\"data\": [{\"x\": [1], \"y\": [8], \"type\": \"scatter\"}, {\"x\": [1], \"y\": [10], \"type\": \"scatter\"}], \"name\": \"frame0\", \"traces\": [0, 1]}, {\"data\": [{\"x\": [1, 2], \"y\": [8, 6], \"type\": \"scatter\"}, {\"x\": [1, 2], \"y\": [10, 9], \"type\": \"scatter\"}], \"name\": \"frame1\", \"traces\": [0, 1]}, {\"data\": [{\"x\": [1, 2, 3], \"y\": [8, 6, 4], \"type\": \"scatter\"}, {\"x\": [1, 2, 3], \"y\": [10, 9, 11], \"type\": \"scatter\"}], \"name\": \"frame2\", \"traces\": [0, 1]}, {\"data\": [{\"x\": [1, 2, 3, 4], \"y\": [8, 6, 4, 3], \"type\": \"scatter\"}, {\"x\": [1, 2, 3, 4], \"y\": [10, 9, 11, 4], \"type\": \"scatter\"}], \"name\": \"frame3\", \"traces\": [0, 1]}, {\"data\": [{\"x\": [1, 2, 3, 4, 5], \"y\": [8, 6, 4, 3, 9], \"type\": \"scatter\"}, {\"x\": [1, 2, 3, 4, 5], \"y\": [10, 9, 11, 4, 1], \"type\": \"scatter\"}], \"name\": \"frame4\", \"traces\": [0, 1]}, {\"data\": [{\"x\": [1, 2, 3, 4, 5, 6], \"y\": [8, 6, 4, 3, 9, 4], \"type\": \"scatter\"}, {\"x\": [1, 2, 3, 4, 5, 6], \"y\": [10, 9, 11, 4, 1, 8], \"type\": \"scatter\"}], \"name\": \"frame5\", \"traces\": [0, 1]}, {\"data\": [{\"x\": [1, 2, 3, 4, 5, 6, 7], \"y\": [8, 6, 4, 3, 9, 4, 2], \"type\": \"scatter\"}, {\"x\": [1, 2, 3, 4, 5, 6, 7], \"y\": [10, 9, 11, 4, 1, 8, 11], \"type\": \"scatter\"}], \"name\": \"frame6\", \"traces\": [0, 1]}, {\"data\": [{\"x\": [1, 2, 3, 4, 5, 6, 7, 8], \"y\": [8, 6, 4, 3, 9, 4, 2, 5], \"type\": \"scatter\"}, {\"x\": [1, 2, 3, 4, 5, 6, 7, 8], \"y\": [10, 9, 11, 4, 1, 8, 11, 6], \"type\": \"scatter\"}], \"name\": \"frame7\", \"traces\": [0, 1]}, {\"data\": [{\"x\": [1, 2, 3, 4, 5, 6, 7, 8, 9], \"y\": [8, 6, 4, 3, 9, 4, 2, 5, 9], \"type\": \"scatter\"}, {\"x\": [1, 2, 3, 4, 5, 6, 7, 8, 9], \"y\": [10, 9, 11, 4, 1, 8, 11, 6, 10], \"type\": \"scatter\"}], \"name\": \"frame8\", \"traces\": [0, 1]}, {\"data\": [{\"x\": [1, 2, 3, 4, 5, 6, 7, 8, 9, 10], \"y\": [8, 6, 4, 3, 9, 4, 2, 5, 9, 7], \"type\": \"scatter\"}, {\"x\": [1, 2, 3, 4, 5, 6, 7, 8, 9, 10], \"y\": [10, 9, 11, 4, 1, 8, 11, 6, 10, 4], \"type\": \"scatter\"}], \"name\": \"frame9\", \"traces\": [0, 1]}, {\"data\": [{\"x\": [1, 2, 3, 4, 5, 6, 7, 8, 9, 10, 11], \"y\": [8, 6, 4, 3, 9, 4, 2, 5, 9, 7, 9], \"type\": \"scatter\"}, {\"x\": [1, 2, 3, 4, 5, 6, 7, 8, 9, 10, 11], \"y\": [10, 9, 11, 4, 1, 8, 11, 6, 10, 4, 3], \"type\": \"scatter\"}], \"name\": \"frame10\", \"traces\": [0, 1]}, {\"data\": [{\"x\": [1, 2, 3, 4, 5, 6, 7, 8, 9, 10, 11, 12], \"y\": [8, 6, 4, 3, 9, 4, 2, 5, 9, 7, 9, 8], \"type\": \"scatter\"}, {\"x\": [1, 2, 3, 4, 5, 6, 7, 8, 9, 10, 11, 12], \"y\": [10, 9, 11, 4, 1, 8, 11, 6, 10, 4, 3, 7], \"type\": \"scatter\"}], \"name\": \"frame11\", \"traces\": [0, 1]}, {\"data\": [{\"x\": [1, 2, 3, 4, 5, 6, 7, 8, 9, 10, 11, 12, 13], \"y\": [8, 6, 4, 3, 9, 4, 2, 5, 9, 7, 9, 8, 8], \"type\": \"scatter\"}, {\"x\": [1, 2, 3, 4, 5, 6, 7, 8, 9, 10, 11, 12, 13], \"y\": [10, 9, 11, 4, 1, 8, 11, 6, 10, 4, 3, 7, 7], \"type\": \"scatter\"}], \"name\": \"frame12\", \"traces\": [0, 1]}, {\"data\": [{\"x\": [1, 2, 3, 4, 5, 6, 7, 8, 9, 10, 11, 12, 13, 14], \"y\": [8, 6, 4, 3, 9, 4, 2, 5, 9, 7, 9, 8, 8, 9], \"type\": \"scatter\"}, {\"x\": [1, 2, 3, 4, 5, 6, 7, 8, 9, 10, 11, 12, 13, 14], \"y\": [10, 9, 11, 4, 1, 8, 11, 6, 10, 4, 3, 7, 7, 9], \"type\": \"scatter\"}], \"name\": \"frame13\", \"traces\": [0, 1]}, {\"data\": [{\"x\": [1, 2, 3, 4, 5, 6, 7, 8, 9, 10, 11, 12, 13, 14, 15], \"y\": [8, 6, 4, 3, 9, 4, 2, 5, 9, 7, 9, 8, 8, 9, 5], \"type\": \"scatter\"}, {\"x\": [1, 2, 3, 4, 5, 6, 7, 8, 9, 10, 11, 12, 13, 14, 15], \"y\": [10, 9, 11, 4, 1, 8, 11, 6, 10, 4, 3, 7, 7, 9, 3], \"type\": \"scatter\"}], \"name\": \"frame14\", \"traces\": [0, 1]}, {\"data\": [{\"x\": [1, 2, 3, 4, 5, 6, 7, 8, 9, 10, 11, 12, 13, 14, 15, 16], \"y\": [8, 6, 4, 3, 9, 4, 2, 5, 9, 7, 9, 8, 8, 9, 5, 6], \"type\": \"scatter\"}, {\"x\": [1, 2, 3, 4, 5, 6, 7, 8, 9, 10, 11, 12, 13, 14, 15, 16], \"y\": [10, 9, 11, 4, 1, 8, 11, 6, 10, 4, 3, 7, 7, 9, 3, 9], \"type\": \"scatter\"}], \"name\": \"frame15\", \"traces\": [0, 1]}, {\"data\": [{\"x\": [1, 2, 3, 4, 5, 6, 7, 8, 9, 10, 11, 12, 13, 14, 15, 16, 17], \"y\": [8, 6, 4, 3, 9, 4, 2, 5, 9, 7, 9, 8, 8, 9, 5, 6, 1], \"type\": \"scatter\"}, {\"x\": [1, 2, 3, 4, 5, 6, 7, 8, 9, 10, 11, 12, 13, 14, 15, 16, 17], \"y\": [10, 9, 11, 4, 1, 8, 11, 6, 10, 4, 3, 7, 7, 9, 3, 9, 7], \"type\": \"scatter\"}], \"name\": \"frame16\", \"traces\": [0, 1]}, {\"data\": [{\"x\": [1, 2, 3, 4, 5, 6, 7, 8, 9, 10, 11, 12, 13, 14, 15, 16, 17, 18], \"y\": [8, 6, 4, 3, 9, 4, 2, 5, 9, 7, 9, 8, 8, 9, 5, 6, 1, 6], \"type\": \"scatter\"}, {\"x\": [1, 2, 3, 4, 5, 6, 7, 8, 9, 10, 11, 12, 13, 14, 15, 16, 17, 18], \"y\": [10, 9, 11, 4, 1, 8, 11, 6, 10, 4, 3, 7, 7, 9, 3, 9, 7, 3], \"type\": \"scatter\"}], \"name\": \"frame17\", \"traces\": [0, 1]}, {\"data\": [{\"x\": [1, 2, 3, 4, 5, 6, 7, 8, 9, 10, 11, 12, 13, 14, 15, 16, 17, 18, 19], \"y\": [8, 6, 4, 3, 9, 4, 2, 5, 9, 7, 9, 8, 8, 9, 5, 6, 1, 6, 4], \"type\": \"scatter\"}, {\"x\": [1, 2, 3, 4, 5, 6, 7, 8, 9, 10, 11, 12, 13, 14, 15, 16, 17, 18, 19], \"y\": [10, 9, 11, 4, 1, 8, 11, 6, 10, 4, 3, 7, 7, 9, 3, 9, 7, 3, 5], \"type\": \"scatter\"}], \"name\": \"frame18\", \"traces\": [0, 1]}, {\"data\": [{\"x\": [1, 2, 3, 4, 5, 6, 7, 8, 9, 10, 11, 12, 13, 14, 15, 16, 17, 18, 19, 20], \"y\": [8, 6, 4, 3, 9, 4, 2, 5, 9, 7, 9, 8, 8, 9, 5, 6, 1, 6, 4, 5], \"type\": \"scatter\"}, {\"x\": [1, 2, 3, 4, 5, 6, 7, 8, 9, 10, 11, 12, 13, 14, 15, 16, 17, 18, 19, 20], \"y\": [10, 9, 11, 4, 1, 8, 11, 6, 10, 4, 3, 7, 7, 9, 3, 9, 7, 3, 5, 2], \"type\": \"scatter\"}], \"name\": \"frame19\", \"traces\": [0, 1]}, {\"data\": [{\"x\": [1, 2, 3, 4, 5, 6, 7, 8, 9, 10, 11, 12, 13, 14, 15, 16, 17, 18, 19, 20, 21], \"y\": [8, 6, 4, 3, 9, 4, 2, 5, 9, 7, 9, 8, 8, 9, 5, 6, 1, 6, 4, 5, 10], \"type\": \"scatter\"}, {\"x\": [1, 2, 3, 4, 5, 6, 7, 8, 9, 10, 11, 12, 13, 14, 15, 16, 17, 18, 19, 20, 21], \"y\": [10, 9, 11, 4, 1, 8, 11, 6, 10, 4, 3, 7, 7, 9, 3, 9, 7, 3, 5, 2, 5], \"type\": \"scatter\"}], \"name\": \"frame20\", \"traces\": [0, 1]}, {\"data\": [{\"x\": [1, 2, 3, 4, 5, 6, 7, 8, 9, 10, 11, 12, 13, 14, 15, 16, 17, 18, 19, 20, 21, 22], \"y\": [8, 6, 4, 3, 9, 4, 2, 5, 9, 7, 9, 8, 8, 9, 5, 6, 1, 6, 4, 5, 10, 11], \"type\": \"scatter\"}, {\"x\": [1, 2, 3, 4, 5, 6, 7, 8, 9, 10, 11, 12, 13, 14, 15, 16, 17, 18, 19, 20, 21, 22], \"y\": [10, 9, 11, 4, 1, 8, 11, 6, 10, 4, 3, 7, 7, 9, 3, 9, 7, 3, 5, 2, 5, 9], \"type\": \"scatter\"}], \"name\": \"frame21\", \"traces\": [0, 1]}, {\"data\": [{\"x\": [1, 2, 3, 4, 5, 6, 7, 8, 9, 10, 11, 12, 13, 14, 15, 16, 17, 18, 19, 20, 21, 22, 23], \"y\": [8, 6, 4, 3, 9, 4, 2, 5, 9, 7, 9, 8, 8, 9, 5, 6, 1, 6, 4, 5, 10, 11, 5], \"type\": \"scatter\"}, {\"x\": [1, 2, 3, 4, 5, 6, 7, 8, 9, 10, 11, 12, 13, 14, 15, 16, 17, 18, 19, 20, 21, 22, 23], \"y\": [10, 9, 11, 4, 1, 8, 11, 6, 10, 4, 3, 7, 7, 9, 3, 9, 7, 3, 5, 2, 5, 9, 8], \"type\": \"scatter\"}], \"name\": \"frame22\", \"traces\": [0, 1]}, {\"data\": [{\"x\": [1, 2, 3, 4, 5, 6, 7, 8, 9, 10, 11, 12, 13, 14, 15, 16, 17, 18, 19, 20, 21, 22, 23, 24], \"y\": [8, 6, 4, 3, 9, 4, 2, 5, 9, 7, 9, 8, 8, 9, 5, 6, 1, 6, 4, 5, 10, 11, 5, 10], \"type\": \"scatter\"}, {\"x\": [1, 2, 3, 4, 5, 6, 7, 8, 9, 10, 11, 12, 13, 14, 15, 16, 17, 18, 19, 20, 21, 22, 23, 24], \"y\": [10, 9, 11, 4, 1, 8, 11, 6, 10, 4, 3, 7, 7, 9, 3, 9, 7, 3, 5, 2, 5, 9, 8, 7], \"type\": \"scatter\"}], \"name\": \"frame23\", \"traces\": [0, 1]}, {\"data\": [{\"x\": [1, 2, 3, 4, 5, 6, 7, 8, 9, 10, 11, 12, 13, 14, 15, 16, 17, 18, 19, 20, 21, 22, 23, 24, 25], \"y\": [8, 6, 4, 3, 9, 4, 2, 5, 9, 7, 9, 8, 8, 9, 5, 6, 1, 6, 4, 5, 10, 11, 5, 10, 11], \"type\": \"scatter\"}, {\"x\": [1, 2, 3, 4, 5, 6, 7, 8, 9, 10, 11, 12, 13, 14, 15, 16, 17, 18, 19, 20, 21, 22, 23, 24, 25], \"y\": [10, 9, 11, 4, 1, 8, 11, 6, 10, 4, 3, 7, 7, 9, 3, 9, 7, 3, 5, 2, 5, 9, 8, 7, 4], \"type\": \"scatter\"}], \"name\": \"frame24\", \"traces\": [0, 1]}, {\"data\": [{\"x\": [1, 2, 3, 4, 5, 6, 7, 8, 9, 10, 11, 12, 13, 14, 15, 16, 17, 18, 19, 20, 21, 22, 23, 24, 25, 26], \"y\": [8, 6, 4, 3, 9, 4, 2, 5, 9, 7, 9, 8, 8, 9, 5, 6, 1, 6, 4, 5, 10, 11, 5, 10, 11, 3], \"type\": \"scatter\"}, {\"x\": [1, 2, 3, 4, 5, 6, 7, 8, 9, 10, 11, 12, 13, 14, 15, 16, 17, 18, 19, 20, 21, 22, 23, 24, 25, 26], \"y\": [10, 9, 11, 4, 1, 8, 11, 6, 10, 4, 3, 7, 7, 9, 3, 9, 7, 3, 5, 2, 5, 9, 8, 7, 4, 11], \"type\": \"scatter\"}], \"name\": \"frame25\", \"traces\": [0, 1]}, {\"data\": [{\"x\": [1, 2, 3, 4, 5, 6, 7, 8, 9, 10, 11, 12, 13, 14, 15, 16, 17, 18, 19, 20, 21, 22, 23, 24, 25, 26, 27], \"y\": [8, 6, 4, 3, 9, 4, 2, 5, 9, 7, 9, 8, 8, 9, 5, 6, 1, 6, 4, 5, 10, 11, 5, 10, 11, 3, 11], \"type\": \"scatter\"}, {\"x\": [1, 2, 3, 4, 5, 6, 7, 8, 9, 10, 11, 12, 13, 14, 15, 16, 17, 18, 19, 20, 21, 22, 23, 24, 25, 26, 27], \"y\": [10, 9, 11, 4, 1, 8, 11, 6, 10, 4, 3, 7, 7, 9, 3, 9, 7, 3, 5, 2, 5, 9, 8, 7, 4, 11, 10], \"type\": \"scatter\"}], \"name\": \"frame26\", \"traces\": [0, 1]}, {\"data\": [{\"x\": [1, 2, 3, 4, 5, 6, 7, 8, 9, 10, 11, 12, 13, 14, 15, 16, 17, 18, 19, 20, 21, 22, 23, 24, 25, 26, 27, 28], \"y\": [8, 6, 4, 3, 9, 4, 2, 5, 9, 7, 9, 8, 8, 9, 5, 6, 1, 6, 4, 5, 10, 11, 5, 10, 11, 3, 11, 5], \"type\": \"scatter\"}, {\"x\": [1, 2, 3, 4, 5, 6, 7, 8, 9, 10, 11, 12, 13, 14, 15, 16, 17, 18, 19, 20, 21, 22, 23, 24, 25, 26, 27, 28], \"y\": [10, 9, 11, 4, 1, 8, 11, 6, 10, 4, 3, 7, 7, 9, 3, 9, 7, 3, 5, 2, 5, 9, 8, 7, 4, 11, 10, 10], \"type\": \"scatter\"}], \"name\": \"frame27\", \"traces\": [0, 1]}, {\"data\": [{\"x\": [1, 2, 3, 4, 5, 6, 7, 8, 9, 10, 11, 12, 13, 14, 15, 16, 17, 18, 19, 20, 21, 22, 23, 24, 25, 26, 27, 28, 29], \"y\": [8, 6, 4, 3, 9, 4, 2, 5, 9, 7, 9, 8, 8, 9, 5, 6, 1, 6, 4, 5, 10, 11, 5, 10, 11, 3, 11, 5, 1], \"type\": \"scatter\"}, {\"x\": [1, 2, 3, 4, 5, 6, 7, 8, 9, 10, 11, 12, 13, 14, 15, 16, 17, 18, 19, 20, 21, 22, 23, 24, 25, 26, 27, 28, 29], \"y\": [10, 9, 11, 4, 1, 8, 11, 6, 10, 4, 3, 7, 7, 9, 3, 9, 7, 3, 5, 2, 5, 9, 8, 7, 4, 11, 10, 10, 5], \"type\": \"scatter\"}], \"name\": \"frame28\", \"traces\": [0, 1]}, {\"data\": [{\"x\": [1, 2, 3, 4, 5, 6, 7, 8, 9, 10, 11, 12, 13, 14, 15, 16, 17, 18, 19, 20, 21, 22, 23, 24, 25, 26, 27, 28, 29, 30], \"y\": [8, 6, 4, 3, 9, 4, 2, 5, 9, 7, 9, 8, 8, 9, 5, 6, 1, 6, 4, 5, 10, 11, 5, 10, 11, 3, 11, 5, 1, 2], \"type\": \"scatter\"}, {\"x\": [1, 2, 3, 4, 5, 6, 7, 8, 9, 10, 11, 12, 13, 14, 15, 16, 17, 18, 19, 20, 21, 22, 23, 24, 25, 26, 27, 28, 29, 30], \"y\": [10, 9, 11, 4, 1, 8, 11, 6, 10, 4, 3, 7, 7, 9, 3, 9, 7, 3, 5, 2, 5, 9, 8, 7, 4, 11, 10, 10, 5, 10], \"type\": \"scatter\"}], \"name\": \"frame29\", \"traces\": [0, 1]}, {\"data\": [{\"x\": [1, 2, 3, 4, 5, 6, 7, 8, 9, 10, 11, 12, 13, 14, 15, 16, 17, 18, 19, 20, 21, 22, 23, 24, 25, 26, 27, 28, 29, 30, 31], \"y\": [8, 6, 4, 3, 9, 4, 2, 5, 9, 7, 9, 8, 8, 9, 5, 6, 1, 6, 4, 5, 10, 11, 5, 10, 11, 3, 11, 5, 1, 2, 1], \"type\": \"scatter\"}, {\"x\": [1, 2, 3, 4, 5, 6, 7, 8, 9, 10, 11, 12, 13, 14, 15, 16, 17, 18, 19, 20, 21, 22, 23, 24, 25, 26, 27, 28, 29, 30, 31], \"y\": [10, 9, 11, 4, 1, 8, 11, 6, 10, 4, 3, 7, 7, 9, 3, 9, 7, 3, 5, 2, 5, 9, 8, 7, 4, 11, 10, 10, 5, 10, 3], \"type\": \"scatter\"}], \"name\": \"frame30\", \"traces\": [0, 1]}, {\"data\": [{\"x\": [1, 2, 3, 4, 5, 6, 7, 8, 9, 10, 11, 12, 13, 14, 15, 16, 17, 18, 19, 20, 21, 22, 23, 24, 25, 26, 27, 28, 29, 30, 31, 32], \"y\": [8, 6, 4, 3, 9, 4, 2, 5, 9, 7, 9, 8, 8, 9, 5, 6, 1, 6, 4, 5, 10, 11, 5, 10, 11, 3, 11, 5, 1, 2, 1, 5], \"type\": \"scatter\"}, {\"x\": [1, 2, 3, 4, 5, 6, 7, 8, 9, 10, 11, 12, 13, 14, 15, 16, 17, 18, 19, 20, 21, 22, 23, 24, 25, 26, 27, 28, 29, 30, 31, 32], \"y\": [10, 9, 11, 4, 1, 8, 11, 6, 10, 4, 3, 7, 7, 9, 3, 9, 7, 3, 5, 2, 5, 9, 8, 7, 4, 11, 10, 10, 5, 10, 3, 10], \"type\": \"scatter\"}], \"name\": \"frame31\", \"traces\": [0, 1]}, {\"data\": [{\"x\": [1, 2, 3, 4, 5, 6, 7, 8, 9, 10, 11, 12, 13, 14, 15, 16, 17, 18, 19, 20, 21, 22, 23, 24, 25, 26, 27, 28, 29, 30, 31, 32, 33], \"y\": [8, 6, 4, 3, 9, 4, 2, 5, 9, 7, 9, 8, 8, 9, 5, 6, 1, 6, 4, 5, 10, 11, 5, 10, 11, 3, 11, 5, 1, 2, 1, 5, 3], \"type\": \"scatter\"}, {\"x\": [1, 2, 3, 4, 5, 6, 7, 8, 9, 10, 11, 12, 13, 14, 15, 16, 17, 18, 19, 20, 21, 22, 23, 24, 25, 26, 27, 28, 29, 30, 31, 32, 33], \"y\": [10, 9, 11, 4, 1, 8, 11, 6, 10, 4, 3, 7, 7, 9, 3, 9, 7, 3, 5, 2, 5, 9, 8, 7, 4, 11, 10, 10, 5, 10, 3, 10, 10], \"type\": \"scatter\"}], \"name\": \"frame32\", \"traces\": [0, 1]}, {\"data\": [{\"x\": [1, 2, 3, 4, 5, 6, 7, 8, 9, 10, 11, 12, 13, 14, 15, 16, 17, 18, 19, 20, 21, 22, 23, 24, 25, 26, 27, 28, 29, 30, 31, 32, 33, 34], \"y\": [8, 6, 4, 3, 9, 4, 2, 5, 9, 7, 9, 8, 8, 9, 5, 6, 1, 6, 4, 5, 10, 11, 5, 10, 11, 3, 11, 5, 1, 2, 1, 5, 3, 2], \"type\": \"scatter\"}, {\"x\": [1, 2, 3, 4, 5, 6, 7, 8, 9, 10, 11, 12, 13, 14, 15, 16, 17, 18, 19, 20, 21, 22, 23, 24, 25, 26, 27, 28, 29, 30, 31, 32, 33, 34], \"y\": [10, 9, 11, 4, 1, 8, 11, 6, 10, 4, 3, 7, 7, 9, 3, 9, 7, 3, 5, 2, 5, 9, 8, 7, 4, 11, 10, 10, 5, 10, 3, 10, 10, 9], \"type\": \"scatter\"}], \"name\": \"frame33\", \"traces\": [0, 1]}, {\"data\": [{\"x\": [1, 2, 3, 4, 5, 6, 7, 8, 9, 10, 11, 12, 13, 14, 15, 16, 17, 18, 19, 20, 21, 22, 23, 24, 25, 26, 27, 28, 29, 30, 31, 32, 33, 34, 35], \"y\": [8, 6, 4, 3, 9, 4, 2, 5, 9, 7, 9, 8, 8, 9, 5, 6, 1, 6, 4, 5, 10, 11, 5, 10, 11, 3, 11, 5, 1, 2, 1, 5, 3, 2, 3], \"type\": \"scatter\"}, {\"x\": [1, 2, 3, 4, 5, 6, 7, 8, 9, 10, 11, 12, 13, 14, 15, 16, 17, 18, 19, 20, 21, 22, 23, 24, 25, 26, 27, 28, 29, 30, 31, 32, 33, 34, 35], \"y\": [10, 9, 11, 4, 1, 8, 11, 6, 10, 4, 3, 7, 7, 9, 3, 9, 7, 3, 5, 2, 5, 9, 8, 7, 4, 11, 10, 10, 5, 10, 3, 10, 10, 9, 9], \"type\": \"scatter\"}], \"name\": \"frame34\", \"traces\": [0, 1]}, {\"data\": [{\"x\": [1, 2, 3, 4, 5, 6, 7, 8, 9, 10, 11, 12, 13, 14, 15, 16, 17, 18, 19, 20, 21, 22, 23, 24, 25, 26, 27, 28, 29, 30, 31, 32, 33, 34, 35, 36], \"y\": [8, 6, 4, 3, 9, 4, 2, 5, 9, 7, 9, 8, 8, 9, 5, 6, 1, 6, 4, 5, 10, 11, 5, 10, 11, 3, 11, 5, 1, 2, 1, 5, 3, 2, 3, 10], \"type\": \"scatter\"}, {\"x\": [1, 2, 3, 4, 5, 6, 7, 8, 9, 10, 11, 12, 13, 14, 15, 16, 17, 18, 19, 20, 21, 22, 23, 24, 25, 26, 27, 28, 29, 30, 31, 32, 33, 34, 35, 36], \"y\": [10, 9, 11, 4, 1, 8, 11, 6, 10, 4, 3, 7, 7, 9, 3, 9, 7, 3, 5, 2, 5, 9, 8, 7, 4, 11, 10, 10, 5, 10, 3, 10, 10, 9, 9, 7], \"type\": \"scatter\"}], \"name\": \"frame35\", \"traces\": [0, 1]}, {\"data\": [{\"x\": [1, 2, 3, 4, 5, 6, 7, 8, 9, 10, 11, 12, 13, 14, 15, 16, 17, 18, 19, 20, 21, 22, 23, 24, 25, 26, 27, 28, 29, 30, 31, 32, 33, 34, 35, 36, 37], \"y\": [8, 6, 4, 3, 9, 4, 2, 5, 9, 7, 9, 8, 8, 9, 5, 6, 1, 6, 4, 5, 10, 11, 5, 10, 11, 3, 11, 5, 1, 2, 1, 5, 3, 2, 3, 10, 9], \"type\": \"scatter\"}, {\"x\": [1, 2, 3, 4, 5, 6, 7, 8, 9, 10, 11, 12, 13, 14, 15, 16, 17, 18, 19, 20, 21, 22, 23, 24, 25, 26, 27, 28, 29, 30, 31, 32, 33, 34, 35, 36, 37], \"y\": [10, 9, 11, 4, 1, 8, 11, 6, 10, 4, 3, 7, 7, 9, 3, 9, 7, 3, 5, 2, 5, 9, 8, 7, 4, 11, 10, 10, 5, 10, 3, 10, 10, 9, 9, 7, 9], \"type\": \"scatter\"}], \"name\": \"frame36\", \"traces\": [0, 1]}, {\"data\": [{\"x\": [1, 2, 3, 4, 5, 6, 7, 8, 9, 10, 11, 12, 13, 14, 15, 16, 17, 18, 19, 20, 21, 22, 23, 24, 25, 26, 27, 28, 29, 30, 31, 32, 33, 34, 35, 36, 37, 38], \"y\": [8, 6, 4, 3, 9, 4, 2, 5, 9, 7, 9, 8, 8, 9, 5, 6, 1, 6, 4, 5, 10, 11, 5, 10, 11, 3, 11, 5, 1, 2, 1, 5, 3, 2, 3, 10, 9, 3], \"type\": \"scatter\"}, {\"x\": [1, 2, 3, 4, 5, 6, 7, 8, 9, 10, 11, 12, 13, 14, 15, 16, 17, 18, 19, 20, 21, 22, 23, 24, 25, 26, 27, 28, 29, 30, 31, 32, 33, 34, 35, 36, 37, 38], \"y\": [10, 9, 11, 4, 1, 8, 11, 6, 10, 4, 3, 7, 7, 9, 3, 9, 7, 3, 5, 2, 5, 9, 8, 7, 4, 11, 10, 10, 5, 10, 3, 10, 10, 9, 9, 7, 9, 11], \"type\": \"scatter\"}], \"name\": \"frame37\", \"traces\": [0, 1]}, {\"data\": [{\"x\": [1, 2, 3, 4, 5, 6, 7, 8, 9, 10, 11, 12, 13, 14, 15, 16, 17, 18, 19, 20, 21, 22, 23, 24, 25, 26, 27, 28, 29, 30, 31, 32, 33, 34, 35, 36, 37, 38, 39], \"y\": [8, 6, 4, 3, 9, 4, 2, 5, 9, 7, 9, 8, 8, 9, 5, 6, 1, 6, 4, 5, 10, 11, 5, 10, 11, 3, 11, 5, 1, 2, 1, 5, 3, 2, 3, 10, 9, 3, 9], \"type\": \"scatter\"}, {\"x\": [1, 2, 3, 4, 5, 6, 7, 8, 9, 10, 11, 12, 13, 14, 15, 16, 17, 18, 19, 20, 21, 22, 23, 24, 25, 26, 27, 28, 29, 30, 31, 32, 33, 34, 35, 36, 37, 38, 39], \"y\": [10, 9, 11, 4, 1, 8, 11, 6, 10, 4, 3, 7, 7, 9, 3, 9, 7, 3, 5, 2, 5, 9, 8, 7, 4, 11, 10, 10, 5, 10, 3, 10, 10, 9, 9, 7, 9, 11, 4], \"type\": \"scatter\"}], \"name\": \"frame38\", \"traces\": [0, 1]}, {\"data\": [{\"x\": [1, 2, 3, 4, 5, 6, 7, 8, 9, 10, 11, 12, 13, 14, 15, 16, 17, 18, 19, 20, 21, 22, 23, 24, 25, 26, 27, 28, 29, 30, 31, 32, 33, 34, 35, 36, 37, 38, 39, 40], \"y\": [8, 6, 4, 3, 9, 4, 2, 5, 9, 7, 9, 8, 8, 9, 5, 6, 1, 6, 4, 5, 10, 11, 5, 10, 11, 3, 11, 5, 1, 2, 1, 5, 3, 2, 3, 10, 9, 3, 9, 9], \"type\": \"scatter\"}, {\"x\": [1, 2, 3, 4, 5, 6, 7, 8, 9, 10, 11, 12, 13, 14, 15, 16, 17, 18, 19, 20, 21, 22, 23, 24, 25, 26, 27, 28, 29, 30, 31, 32, 33, 34, 35, 36, 37, 38, 39, 40], \"y\": [10, 9, 11, 4, 1, 8, 11, 6, 10, 4, 3, 7, 7, 9, 3, 9, 7, 3, 5, 2, 5, 9, 8, 7, 4, 11, 10, 10, 5, 10, 3, 10, 10, 9, 9, 7, 9, 11, 4, 3], \"type\": \"scatter\"}], \"name\": \"frame39\", \"traces\": [0, 1]}, {\"data\": [{\"x\": [1, 2, 3, 4, 5, 6, 7, 8, 9, 10, 11, 12, 13, 14, 15, 16, 17, 18, 19, 20, 21, 22, 23, 24, 25, 26, 27, 28, 29, 30, 31, 32, 33, 34, 35, 36, 37, 38, 39, 40, 41], \"y\": [8, 6, 4, 3, 9, 4, 2, 5, 9, 7, 9, 8, 8, 9, 5, 6, 1, 6, 4, 5, 10, 11, 5, 10, 11, 3, 11, 5, 1, 2, 1, 5, 3, 2, 3, 10, 9, 3, 9, 9, 4], \"type\": \"scatter\"}, {\"x\": [1, 2, 3, 4, 5, 6, 7, 8, 9, 10, 11, 12, 13, 14, 15, 16, 17, 18, 19, 20, 21, 22, 23, 24, 25, 26, 27, 28, 29, 30, 31, 32, 33, 34, 35, 36, 37, 38, 39, 40], \"y\": [10, 9, 11, 4, 1, 8, 11, 6, 10, 4, 3, 7, 7, 9, 3, 9, 7, 3, 5, 2, 5, 9, 8, 7, 4, 11, 10, 10, 5, 10, 3, 10, 10, 9, 9, 7, 9, 11, 4, 3], \"type\": \"scatter\"}], \"name\": \"frame40\", \"traces\": [0, 1]}, {\"data\": [{\"x\": [1, 2, 3, 4, 5, 6, 7, 8, 9, 10, 11, 12, 13, 14, 15, 16, 17, 18, 19, 20, 21, 22, 23, 24, 25, 26, 27, 28, 29, 30, 31, 32, 33, 34, 35, 36, 37, 38, 39, 40, 41, 42], \"y\": [8, 6, 4, 3, 9, 4, 2, 5, 9, 7, 9, 8, 8, 9, 5, 6, 1, 6, 4, 5, 10, 11, 5, 10, 11, 3, 11, 5, 1, 2, 1, 5, 3, 2, 3, 10, 9, 3, 9, 9, 4, 6], \"type\": \"scatter\"}, {\"x\": [1, 2, 3, 4, 5, 6, 7, 8, 9, 10, 11, 12, 13, 14, 15, 16, 17, 18, 19, 20, 21, 22, 23, 24, 25, 26, 27, 28, 29, 30, 31, 32, 33, 34, 35, 36, 37, 38, 39, 40], \"y\": [10, 9, 11, 4, 1, 8, 11, 6, 10, 4, 3, 7, 7, 9, 3, 9, 7, 3, 5, 2, 5, 9, 8, 7, 4, 11, 10, 10, 5, 10, 3, 10, 10, 9, 9, 7, 9, 11, 4, 3], \"type\": \"scatter\"}], \"name\": \"frame41\", \"traces\": [0, 1]}, {\"data\": [{\"x\": [1, 2, 3, 4, 5, 6, 7, 8, 9, 10, 11, 12, 13, 14, 15, 16, 17, 18, 19, 20, 21, 22, 23, 24, 25, 26, 27, 28, 29, 30, 31, 32, 33, 34, 35, 36, 37, 38, 39, 40, 41, 42, 43], \"y\": [8, 6, 4, 3, 9, 4, 2, 5, 9, 7, 9, 8, 8, 9, 5, 6, 1, 6, 4, 5, 10, 11, 5, 10, 11, 3, 11, 5, 1, 2, 1, 5, 3, 2, 3, 10, 9, 3, 9, 9, 4, 6, 3], \"type\": \"scatter\"}, {\"x\": [1, 2, 3, 4, 5, 6, 7, 8, 9, 10, 11, 12, 13, 14, 15, 16, 17, 18, 19, 20, 21, 22, 23, 24, 25, 26, 27, 28, 29, 30, 31, 32, 33, 34, 35, 36, 37, 38, 39, 40], \"y\": [10, 9, 11, 4, 1, 8, 11, 6, 10, 4, 3, 7, 7, 9, 3, 9, 7, 3, 5, 2, 5, 9, 8, 7, 4, 11, 10, 10, 5, 10, 3, 10, 10, 9, 9, 7, 9, 11, 4, 3], \"type\": \"scatter\"}], \"name\": \"frame42\", \"traces\": [0, 1]}, {\"data\": [{\"x\": [1, 2, 3, 4, 5, 6, 7, 8, 9, 10, 11, 12, 13, 14, 15, 16, 17, 18, 19, 20, 21, 22, 23, 24, 25, 26, 27, 28, 29, 30, 31, 32, 33, 34, 35, 36, 37, 38, 39, 40, 41, 42, 43, 44], \"y\": [8, 6, 4, 3, 9, 4, 2, 5, 9, 7, 9, 8, 8, 9, 5, 6, 1, 6, 4, 5, 10, 11, 5, 10, 11, 3, 11, 5, 1, 2, 1, 5, 3, 2, 3, 10, 9, 3, 9, 9, 4, 6, 3, 10], \"type\": \"scatter\"}, {\"x\": [1, 2, 3, 4, 5, 6, 7, 8, 9, 10, 11, 12, 13, 14, 15, 16, 17, 18, 19, 20, 21, 22, 23, 24, 25, 26, 27, 28, 29, 30, 31, 32, 33, 34, 35, 36, 37, 38, 39, 40], \"y\": [10, 9, 11, 4, 1, 8, 11, 6, 10, 4, 3, 7, 7, 9, 3, 9, 7, 3, 5, 2, 5, 9, 8, 7, 4, 11, 10, 10, 5, 10, 3, 10, 10, 9, 9, 7, 9, 11, 4, 3], \"type\": \"scatter\"}], \"name\": \"frame43\", \"traces\": [0, 1]}, {\"data\": [{\"x\": [1, 2, 3, 4, 5, 6, 7, 8, 9, 10, 11, 12, 13, 14, 15, 16, 17, 18, 19, 20, 21, 22, 23, 24, 25, 26, 27, 28, 29, 30, 31, 32, 33, 34, 35, 36, 37, 38, 39, 40, 41, 42, 43, 44, 45], \"y\": [8, 6, 4, 3, 9, 4, 2, 5, 9, 7, 9, 8, 8, 9, 5, 6, 1, 6, 4, 5, 10, 11, 5, 10, 11, 3, 11, 5, 1, 2, 1, 5, 3, 2, 3, 10, 9, 3, 9, 9, 4, 6, 3, 10, 5], \"type\": \"scatter\"}, {\"x\": [1, 2, 3, 4, 5, 6, 7, 8, 9, 10, 11, 12, 13, 14, 15, 16, 17, 18, 19, 20, 21, 22, 23, 24, 25, 26, 27, 28, 29, 30, 31, 32, 33, 34, 35, 36, 37, 38, 39, 40], \"y\": [10, 9, 11, 4, 1, 8, 11, 6, 10, 4, 3, 7, 7, 9, 3, 9, 7, 3, 5, 2, 5, 9, 8, 7, 4, 11, 10, 10, 5, 10, 3, 10, 10, 9, 9, 7, 9, 11, 4, 3], \"type\": \"scatter\"}], \"name\": \"frame44\", \"traces\": [0, 1]}, {\"data\": [{\"x\": [1, 2, 3, 4, 5, 6, 7, 8, 9, 10, 11, 12, 13, 14, 15, 16, 17, 18, 19, 20, 21, 22, 23, 24, 25, 26, 27, 28, 29, 30, 31, 32, 33, 34, 35, 36, 37, 38, 39, 40, 41, 42, 43, 44, 45, 46], \"y\": [8, 6, 4, 3, 9, 4, 2, 5, 9, 7, 9, 8, 8, 9, 5, 6, 1, 6, 4, 5, 10, 11, 5, 10, 11, 3, 11, 5, 1, 2, 1, 5, 3, 2, 3, 10, 9, 3, 9, 9, 4, 6, 3, 10, 5, 5], \"type\": \"scatter\"}, {\"x\": [1, 2, 3, 4, 5, 6, 7, 8, 9, 10, 11, 12, 13, 14, 15, 16, 17, 18, 19, 20, 21, 22, 23, 24, 25, 26, 27, 28, 29, 30, 31, 32, 33, 34, 35, 36, 37, 38, 39, 40], \"y\": [10, 9, 11, 4, 1, 8, 11, 6, 10, 4, 3, 7, 7, 9, 3, 9, 7, 3, 5, 2, 5, 9, 8, 7, 4, 11, 10, 10, 5, 10, 3, 10, 10, 9, 9, 7, 9, 11, 4, 3], \"type\": \"scatter\"}], \"name\": \"frame45\", \"traces\": [0, 1]}, {\"data\": [{\"x\": [1, 2, 3, 4, 5, 6, 7, 8, 9, 10, 11, 12, 13, 14, 15, 16, 17, 18, 19, 20, 21, 22, 23, 24, 25, 26, 27, 28, 29, 30, 31, 32, 33, 34, 35, 36, 37, 38, 39, 40, 41, 42, 43, 44, 45, 46, 47], \"y\": [8, 6, 4, 3, 9, 4, 2, 5, 9, 7, 9, 8, 8, 9, 5, 6, 1, 6, 4, 5, 10, 11, 5, 10, 11, 3, 11, 5, 1, 2, 1, 5, 3, 2, 3, 10, 9, 3, 9, 9, 4, 6, 3, 10, 5, 5, 2], \"type\": \"scatter\"}, {\"x\": [1, 2, 3, 4, 5, 6, 7, 8, 9, 10, 11, 12, 13, 14, 15, 16, 17, 18, 19, 20, 21, 22, 23, 24, 25, 26, 27, 28, 29, 30, 31, 32, 33, 34, 35, 36, 37, 38, 39, 40], \"y\": [10, 9, 11, 4, 1, 8, 11, 6, 10, 4, 3, 7, 7, 9, 3, 9, 7, 3, 5, 2, 5, 9, 8, 7, 4, 11, 10, 10, 5, 10, 3, 10, 10, 9, 9, 7, 9, 11, 4, 3], \"type\": \"scatter\"}], \"name\": \"frame46\", \"traces\": [0, 1]}, {\"data\": [{\"x\": [1, 2, 3, 4, 5, 6, 7, 8, 9, 10, 11, 12, 13, 14, 15, 16, 17, 18, 19, 20, 21, 22, 23, 24, 25, 26, 27, 28, 29, 30, 31, 32, 33, 34, 35, 36, 37, 38, 39, 40, 41, 42, 43, 44, 45, 46, 47, 48], \"y\": [8, 6, 4, 3, 9, 4, 2, 5, 9, 7, 9, 8, 8, 9, 5, 6, 1, 6, 4, 5, 10, 11, 5, 10, 11, 3, 11, 5, 1, 2, 1, 5, 3, 2, 3, 10, 9, 3, 9, 9, 4, 6, 3, 10, 5, 5, 2, 6], \"type\": \"scatter\"}, {\"x\": [1, 2, 3, 4, 5, 6, 7, 8, 9, 10, 11, 12, 13, 14, 15, 16, 17, 18, 19, 20, 21, 22, 23, 24, 25, 26, 27, 28, 29, 30, 31, 32, 33, 34, 35, 36, 37, 38, 39, 40], \"y\": [10, 9, 11, 4, 1, 8, 11, 6, 10, 4, 3, 7, 7, 9, 3, 9, 7, 3, 5, 2, 5, 9, 8, 7, 4, 11, 10, 10, 5, 10, 3, 10, 10, 9, 9, 7, 9, 11, 4, 3], \"type\": \"scatter\"}], \"name\": \"frame47\", \"traces\": [0, 1]}, {\"data\": [{\"x\": [1, 2, 3, 4, 5, 6, 7, 8, 9, 10, 11, 12, 13, 14, 15, 16, 17, 18, 19, 20, 21, 22, 23, 24, 25, 26, 27, 28, 29, 30, 31, 32, 33, 34, 35, 36, 37, 38, 39, 40, 41, 42, 43, 44, 45, 46, 47, 48, 49], \"y\": [8, 6, 4, 3, 9, 4, 2, 5, 9, 7, 9, 8, 8, 9, 5, 6, 1, 6, 4, 5, 10, 11, 5, 10, 11, 3, 11, 5, 1, 2, 1, 5, 3, 2, 3, 10, 9, 3, 9, 9, 4, 6, 3, 10, 5, 5, 2, 6, 5], \"type\": \"scatter\"}, {\"x\": [1, 2, 3, 4, 5, 6, 7, 8, 9, 10, 11, 12, 13, 14, 15, 16, 17, 18, 19, 20, 21, 22, 23, 24, 25, 26, 27, 28, 29, 30, 31, 32, 33, 34, 35, 36, 37, 38, 39, 40], \"y\": [10, 9, 11, 4, 1, 8, 11, 6, 10, 4, 3, 7, 7, 9, 3, 9, 7, 3, 5, 2, 5, 9, 8, 7, 4, 11, 10, 10, 5, 10, 3, 10, 10, 9, 9, 7, 9, 11, 4, 3], \"type\": \"scatter\"}], \"name\": \"frame48\", \"traces\": [0, 1]}]);\n",
       "                        }).then(function(){\n",
       "                            \n",
       "var gd = document.getElementById('de04d79d-48de-4143-8e48-ebd45679c3b4');\n",
       "var x = new MutationObserver(function (mutations, observer) {{\n",
       "        var display = window.getComputedStyle(gd).display;\n",
       "        if (!display || display === 'none') {{\n",
       "            console.log([gd, 'removed!']);\n",
       "            Plotly.purge(gd);\n",
       "            observer.disconnect();\n",
       "        }}\n",
       "}});\n",
       "\n",
       "// Listen for the removal of the full notebook cells\n",
       "var notebookContainer = gd.closest('#notebook-container');\n",
       "if (notebookContainer) {{\n",
       "    x.observe(notebookContainer, {childList: true});\n",
       "}}\n",
       "\n",
       "// Listen for the clearing of the current output cell\n",
       "var outputEl = gd.closest('.output');\n",
       "if (outputEl) {{\n",
       "    x.observe(outputEl, {childList: true});\n",
       "}}\n",
       "\n",
       "                        })\n",
       "                };\n",
       "                });\n",
       "            </script>\n",
       "        </div>"
      ]
     },
     "metadata": {},
     "output_type": "display_data"
    }
   ],
   "source": [
    "fig.update(frames=frames),\n",
    "fig.update_layout(updatemenus=updatemenus,\n",
    "                  sliders=sliders);\n",
    "fig.show()"
   ]
  },
  {
   "cell_type": "code",
   "execution_count": null,
   "metadata": {},
   "outputs": [],
   "source": []
  }
 ],
 "metadata": {
  "kernelspec": {
   "display_name": "Conda: base",
   "language": "python",
   "name": "base"
  },
  "language_info": {
   "codemirror_mode": {
    "name": "ipython",
    "version": 3
   },
   "file_extension": ".py",
   "mimetype": "text/x-python",
   "name": "python",
   "nbconvert_exporter": "python",
   "pygments_lexer": "ipython3",
   "version": "3.7.5"
  }
 },
 "nbformat": 4,
 "nbformat_minor": 4
}
